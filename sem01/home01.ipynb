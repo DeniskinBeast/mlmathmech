{
 "cells": [
  {
   "cell_type": "markdown",
   "metadata": {},
   "source": [
    "# Домашнее задание №1. Numpy"
   ]
  },
  {
   "cell_type": "markdown",
   "metadata": {},
   "source": [
    "### Общие Правила выполнения дз:\n",
    "* У функции нельзя менять название, иначе тесты не будут проходить.\n",
    "* Можно делать дополнительные функции как внутри исходной функции, так и вне нее. Но ее также придется отправить.\n",
    "* Можно бользоваться сокращениями `np`, `pd`, `sc` для стандартных библиотек.\n",
    "* Нельзя ничего считывать с диска, если в коде функции присутствуют `open` и др. функции чтения или записи - задача не засчитывается.\n"
   ]
  },
  {
   "cell_type": "code",
   "execution_count": 1,
   "metadata": {},
   "outputs": [],
   "source": [
    "import numpy as np"
   ]
  },
  {
   "cell_type": "markdown",
   "metadata": {},
   "source": [
    "### Прелесть numpy в массовых операциях, а значит все задания должны быть реализованы без циклов. \n",
    "\n",
    "### Если в коде есть слово for или while задача не засчитывается"
   ]
  },
  {
   "cell_type": "markdown",
   "metadata": {},
   "source": [
    "## (1 балл) Задание №1. Жорданова форма."
   ]
  },
  {
   "cell_type": "markdown",
   "metadata": {},
   "source": [
    "Дан массив из **3**-х действительных собственных чисел и их алгебраическими кратностями.\n",
    "\n",
    "Необходимо построить Жорданову матрицу по этим собственным числам. (матрица - numpy.array)\n",
    "\n",
    "Пример\n",
    "$$\\begin{pmatrix}\n",
    "2.2 & 1 & 0 & 0 & 0 & 0\\\\\n",
    "0 & 2.2 & 0 & 0 & 0 & 0\\\\\n",
    "0 & 0 & 3 & 1 & 0 & 0\\\\\n",
    "0 & 0 & 0 & 3 & 1 & 0\\\\\n",
    "0 & 0 & 0 & 0 & 3 & 0\\\\\n",
    "0 & 0 & 0 & 0 & 0 & 5\n",
    "\\end{pmatrix}$$  \n",
    "\n",
    "Напоминание, Жорданова матрица состоит из блоков, где на главной диагонали стоят собственные числа, а следующая диагональ блока заполнена единицами. \n",
    "\n",
    "Блоки идут в `том же порядке`, что и в листе на входе. (Хотя в реальной Жордановой матрице блоки могут идти в любом порядке)"
   ]
  },
  {
   "cell_type": "markdown",
   "metadata": {},
   "source": [
    "### Sample 1\n",
    "#### Input:\n",
    "```python\n",
    "X = np.array([(2.2, 2), (3, 3), (5, 1)])\n",
    "```\n",
    "#### Output:\n",
    "```python\n",
    "array([[2.2, 1. , 0. , 0. , 0. , 0. ],\n",
    "       [0. , 2.2, 0. , 0. , 0. , 0. ],\n",
    "       [0. , 0. , 3. , 1. , 0. , 0. ],\n",
    "       [0. , 0. , 0. , 3. , 1. , 0. ],\n",
    "       [0. , 0. , 0. , 0. , 3. , 0. ],\n",
    "       [0. , 0. , 0. , 0. , 0. , 5. ]])\n",
    "```"
   ]
  },
  {
   "cell_type": "code",
<<<<<<< HEAD
   "execution_count": 2,
   "metadata": {},
   "outputs": [
    {
     "data": {
      "text/plain": [
       "array([[2.2, 1. , 0. , 0. , 0. , 0. ],\n",
       "       [0. , 2.2, 0. , 0. , 0. , 0. ],\n",
       "       [0. , 0. , 3. , 1. , 0. , 0. ],\n",
       "       [0. , 0. , 0. , 3. , 1. , 0. ],\n",
       "       [0. , 0. , 0. , 0. , 3. , 0. ],\n",
       "       [0. , 0. , 0. , 0. , 0. , 4. ]])"
      ]
     },
     "execution_count": 2,
     "metadata": {},
     "output_type": "execute_result"
    }
   ],
   "source": [
    "# X = np.array([(2.2, 2), (3, 3), (5, 1)])\n",
    "X = np.array([(2.2, 2), (3,3), (4,1)])\n",
    "def jordan_matrix(n):\n",
    "    a = np.diag(np.concatenate((np.repeat(X[0, 0], X[0, 1]), np.repeat(X[1, 0], X[1,1]), np.repeat(X[2, 0], X[2, 1])))) \n",
    "    b = np.diag(np.concatenate(((np.repeat(1, X[0, 1]-1), np.array([0]), np.repeat(1, X[1,1]- 1), np.array([0]), np.repeat(1, X[2, 1]-1)))), k=1) \n",
    "    return a+b\n",
    "\n",
    "jordan_matrix(X)"
=======
   "execution_count": 1,
   "metadata": {},
   "outputs": [],
   "source": [
    "def jordan_matrix(X: np.ndarray) -> np.ndarray:\n",
    "    ### ╰( ͡° ͜ʖ ͡° )つ──☆*:・ﾟ\n",
    "    pass"
>>>>>>> 0499743bc066d9c0a3470196cdac114b67429047
   ]
  },
  {
   "cell_type": "markdown",
   "metadata": {},
   "source": [
    "---"
   ]
  },
  {
   "cell_type": "markdown",
   "metadata": {},
   "source": [
    "## (1 балл) Задание №2. Сложное выражение"
   ]
  },
  {
   "cell_type": "markdown",
   "metadata": {},
   "source": [
    "На вход подаются матрицы $A$, $B$.\n",
    "Запишите и посчитайте с помощью numpy следующее выражение. Если выполнить операцию корректно нельзя - выведите None.  \n",
    "\n",
    "$$\\tan{(A)} \\times \\ln{(|B|)}$$\n",
    "\n",
    "* $\\times$ - матричное перемножение.\n",
    "* Доп. требование: в решении не должно быть конструкции: \n",
    "```python\n",
    "try: \n",
    "    ...\n",
    "except:\n",
    "    ...\n",
    "```\n"
   ]
  },
  {
   "cell_type": "markdown",
   "metadata": {},
   "source": [
    "### Sample 1\n",
    "#### Input:\n",
    "На вход подается ```np.ndarray```, а не ```np.matrix```. Будьте внимательны! \n",
    "```python\n",
    "A = np.array([[3, 4]])\n",
    "B = np.array([[-3, 5],[4, -5]])\n",
    "```\n",
    "#### Output:\n",
    "```python\n",
    "array([1.44847773, 1.63402166])\n",
    "```"
   ]
  },
  {
   "cell_type": "markdown",
   "metadata": {},
   "source": [
    "### Sample 2\n",
    "#### Input:\n",
    "На вход подается ```np.ndarray```, а не ```np.matrix```. Будьте внимательны! \n",
    "```python\n",
    "A = np.array([[3, 4, 5]])\n",
    "B = np.array([[-3, 5],[4, -5]])\n",
    "```\n",
    "#### Output:\n",
    "```python\n",
    "None\n",
    "```"
   ]
  },
  {
   "cell_type": "code",
   "execution_count": 94,
   "metadata": {},
   "outputs": [
    {
     "name": "stdout",
     "output_type": "stream",
     "text": [
      "[1.44847773 1.63402166]\n"
     ]
    }
   ],
   "source": [
<<<<<<< HEAD
    "def complex_expr(A, B):\n",
    "    if min(A.shape) == min(B.shape):\n",
    "        return np.tan(A).dot(np.log(np.abs(B)))\n",
    "    \n",
    "    return None\n",
    "    \n",
    "A = np.array([3, 4])\n",
    "B = np.array([[-3, 5],[4, -5]])\n",
    "# A = np.array([3, 4, 5])\n",
    "# B = np.array([[-3, 5],[4, -5]])\n",
    "\n",
    "print(complex_expr(A, B))"
=======
    "def complex_expr(A: np.ndarray, B: np.ndarray) -> np.ndarray:\n",
    "    ### ╰( ͡° ͜ʖ ͡° )つ──☆*:・ﾟ\n",
    "    pass"
>>>>>>> 0499743bc066d9c0a3470196cdac114b67429047
   ]
  },
  {
   "cell_type": "markdown",
   "metadata": {},
   "source": [
    "---"
   ]
  },
  {
   "cell_type": "markdown",
   "metadata": {},
   "source": [
    "## (1 балл) Задание №3. Наибольший результат."
   ]
  },
  {
   "cell_type": "markdown",
   "metadata": {},
   "source": [
    "Пусть у нас есть матрица $X$, к которой мы хотим применить операции покоординатного перемножения и минимума для всех переменных (перемножаем все элементы строки или столбца). Очевидно, что выполняя данные операции на разные координаты и в разном порядке, мы будем получать разный результат. Найдите наибольший результат среди возможных применений этих двух функций к входной матрице. "
   ]
  },
  {
   "cell_type": "markdown",
   "metadata": {},
   "source": [
    "### Sample\n",
    "#### Input:\n",
    "```python\n",
    "X = np.array([[ 1,  2, 13],\n",
    "              [15,  6,  8],\n",
    "              [ 7, 18,  9]])\n",
    "```\n",
    "#### Output:\n",
    "```python\n",
    "105\n",
    "```"
   ]
  },
  {
   "cell_type": "code",
   "execution_count": 11,
   "metadata": {},
   "outputs": [
    {
     "data": {
      "text/plain": [
       "16"
      ]
     },
     "execution_count": 11,
     "metadata": {},
     "output_type": "execute_result"
    }
   ],
   "source": [
<<<<<<< HEAD
    "def max_result(X):\n",
    "    axis_0_max = max(min(X.prod(axis=0)), np.prod(X.min(axis=0)))\n",
    "    axis_1_max = max(min(X.prod(axis=1)), np.prod(X.min(axis=1)))\n",
    "    return max(axis_0_max, axis_1_max)\n",
    "\n",
    "X = np.array([[ 1,  2, 13],\n",
    "              [15,  6,  8],\n",
    "              [ 7, 18,  9]])\n",
    "\n",
    "np.prod(X.min(axis=0))\n",
    "# max_result(X)\n",
    "# np.lookfor(\"min\")"
=======
    "def max_result(X: np.ndarray) -> float:\n",
    "    ### ╰( ͡° ͜ʖ ͡° )つ──☆*:・ﾟ\n",
    "    pass"
>>>>>>> 0499743bc066d9c0a3470196cdac114b67429047
   ]
  },
  {
   "cell_type": "markdown",
   "metadata": {},
   "source": [
    "---"
   ]
  },
  {
   "cell_type": "markdown",
   "metadata": {},
   "source": [
    "## (1 балл) Задание №4. Найти ближайший элемент."
   ]
  },
  {
   "cell_type": "markdown",
   "metadata": {},
   "source": [
    "Реализуйте функцию, принимающую на вход непустой тензор (может быть многомерным) $X$ и некоторое число $a$ и возвращающую ближайший к числу элемент тензора.\n",
    "\n",
    "Подсказка: тут может пригодится одна полезная функция, которой не было в семинаре. Погуглите:)"
   ]
  },
  {
   "cell_type": "markdown",
   "metadata": {},
   "source": [
    "### Sample\n",
    "#### Input:\n",
    "```python\n",
    "X = np.array([[ 1,  2, 13],\n",
    "              [15,  6,  8],\n",
    "              [ 7, 18,  9]])\n",
    "a = 7.2\n",
    "```\n",
    "#### Output:\n",
    "```python\n",
    "7\n",
    "```"
   ]
  },
  {
   "cell_type": "code",
   "execution_count": 5,
   "metadata": {},
   "outputs": [
    {
     "data": {
      "text/plain": [
       "7"
      ]
     },
     "execution_count": 5,
     "metadata": {},
     "output_type": "execute_result"
    }
   ],
   "source": [
<<<<<<< HEAD
    "def nearest_value(X, a):\n",
    "    return X.flat[np.abs(X - a).argmin()]\n",
    "    \n",
    "X = np.array([[ 1,  2, 13],\n",
    "              [15,  6,  8],\n",
    "              [ 7, 18,  9]])\n",
    "\n",
    "a = 7.2\n",
    "\n",
    "nearest_value(X, a)"
=======
    "def nearest_value(X: np.ndarray, a: float) -> float:\n",
    "    ### ╰( ͡° ͜ʖ ͡° )つ──☆*:・ﾟ\n",
    "    pass"
>>>>>>> 0499743bc066d9c0a3470196cdac114b67429047
   ]
  },
  {
   "cell_type": "markdown",
   "metadata": {},
   "source": [
    "---"
   ]
  },
  {
   "cell_type": "markdown",
   "metadata": {
    "colab_type": "text",
    "id": "XQp7dsakqV_I"
   },
   "source": [
    "## (1 балл) Задание №5. Применение маски"
   ]
  },
  {
   "cell_type": "markdown",
   "metadata": {
    "colab_type": "text",
    "id": "DPHwpO0GqdSP"
   },
   "source": [
    "Даны трехмерный тензор размерности $X(n, k, k)$, состоящий из $0$ или $1$, или $n$ картинок $k \\times k$. Нужно применить к нему указанную маску размерности $(k, k)$: В случае, если биты в маске и картинке совпадают, то результирующий бит должен быть равен $0$, иначе $1$."
   ]
  },
  {
   "cell_type": "markdown",
   "metadata": {},
   "source": [
    "### Sample\n",
    "#### Input:\n",
    "```python\n",
    "X = np.array([\n",
    "              [[ 1, 0, 1],\n",
    "               [ 1, 1, 1],\n",
    "               [ 0, 0, 1]],\n",
    "             \n",
    "              [[ 1, 1, 1],\n",
    "               [ 1, 1, 1],\n",
    "               [ 1, 1, 1]]\n",
    "            ])\n",
    "mask = np.array([[1, 1, 0],\n",
    "                 [1, 1, 0],\n",
    "                 [1, 1, 0]])\n",
    "```\n",
    "#### Output:\n",
    "```python\n",
    "array([[[0, 1, 1],\n",
    "        [0, 0, 1],\n",
    "        [1, 1, 1]],\n",
    "\n",
    "       [[0, 0, 1],\n",
    "        [0, 0, 1],\n",
    "        [0, 0, 1]]])\n",
    "```"
   ]
  },
  {
   "cell_type": "code",
   "execution_count": 78,
   "metadata": {},
   "outputs": [
    {
     "data": {
      "text/plain": [
       "array([[[0, 1, 1],\n",
       "        [0, 0, 1],\n",
       "        [1, 1, 1]],\n",
       "\n",
       "       [[0, 0, 1],\n",
       "        [0, 0, 1],\n",
       "        [0, 0, 1]],\n",
       "\n",
       "       [[0, 0, 0],\n",
       "        [1, 0, 0],\n",
       "        [1, 0, 0]]])"
      ]
     },
     "execution_count": 78,
     "metadata": {},
     "output_type": "execute_result"
    }
   ],
   "source": [
<<<<<<< HEAD
    "def tensor_mask(X, mask):\n",
    "    return np.where(X==mask, 0, 1)\n",
    "\n",
    "X = np.array([\n",
    "              [[ 1, 0, 1],\n",
    "               [ 1, 1, 1],\n",
    "               [ 0, 0, 1]],\n",
    "\n",
    "              [[ 1, 1, 1],\n",
    "               [ 1, 1, 1],\n",
    "               [ 1, 1, 1]],\n",
    "    \n",
    "              [[ 1, 1, 0],\n",
    "               [ 0, 1, 0],\n",
    "               [ 0, 1, 0]]\n",
    "            ])\n",
    "\n",
    "mask = np.array([[1, 1, 0],\n",
    "                 [1, 1, 0],\n",
    "                 [1, 1, 0]])\n",
    "\n",
    "tensor_mask(X, mask)"
=======
    "def tensor_mask(X: np.ndarray, mask: np.ndarray) -> np.ndarray:\n",
    "    ### ╰( ͡° ͜ʖ ͡° )つ──☆*:・ﾟ\n",
    "    pass"
>>>>>>> 0499743bc066d9c0a3470196cdac114b67429047
   ]
  },
  {
   "cell_type": "markdown",
   "metadata": {},
   "source": [
    "---"
   ]
  },
  {
   "cell_type": "markdown",
   "metadata": {},
   "source": [
    "## (1 балл) Задание №6. Сортировка чисел по маске"
   ]
  },
  {
   "cell_type": "markdown",
   "metadata": {},
   "source": [
    "Дан массив целых чисел. Необходимо отсортировать в нем только числа, которые делятся на $2$.\n",
    "\n",
    "Для сортировки массивов у numpy тоже есть своя функция:)"
   ]
  },
  {
   "cell_type": "markdown",
   "metadata": {},
   "source": [
    "### Sample\n",
    "#### Input:\n",
    "```python\n",
    "A = np.array([43, 66, 34, 55, 78, 105, 2])\n",
    "```\n",
    "#### Output:\n",
    "```python\n",
    "array([ 43,   2,  34,  55,  66, 105,  78])\n",
    "```"
   ]
  },
  {
   "cell_type": "code",
   "execution_count": 7,
   "metadata": {},
   "outputs": [
    {
     "data": {
      "text/plain": [
       "array([ 43,   2,  34,  55,  66, 105,  78])"
      ]
     },
     "execution_count": 7,
     "metadata": {},
     "output_type": "execute_result"
    }
   ],
   "source": [
<<<<<<< HEAD
    "def sort_evens(A):\n",
    "    mask_arr = np.where(A%2 == 0, 1, 0)\n",
    "    B = np.ma.array(A, mask=mask_arr)\n",
    "\n",
    "    evens = B[B.mask].data\n",
    "    sorted_evens = np.sort(evens)\n",
    "\n",
    "    B.set_fill_value(sorted_evens)\n",
    "    B[B.mask] = B.get_fill_value()\n",
    "    \n",
    "    return B.data\n",
    "\n",
    "\n",
    "A = np.array([43, 66, 34, 55, 78, 105, 2])\n",
    "sort_evens(A)"
=======
    "def sort_evens(A: np.ndarray) -> np.ndarray:\n",
    "    ### ╰( ͡° ͜ʖ ͡° )つ──☆*:・ﾟ\n",
    "    pass"
>>>>>>> 0499743bc066d9c0a3470196cdac114b67429047
   ]
  },
  {
   "cell_type": "markdown",
   "metadata": {},
   "source": [
    "---"
   ]
  },
  {
   "cell_type": "markdown",
   "metadata": {},
   "source": [
    "## (1 балла) Задание №7. Сумма цифр"
   ]
  },
  {
   "cell_type": "markdown",
   "metadata": {},
   "source": [
    "На вход подается numpy array c натуральными числами. Надо получить массив сумм цифр в этих числах."
   ]
  },
  {
   "cell_type": "markdown",
   "metadata": {},
   "source": [
    "### Sample\n",
    "#### Input:\n",
    "```python\n",
    "x = np.array([1241, 354, 121])\n",
    "```\n",
    "#### Output:\n",
    "```python\n",
    "array([ 8, 12, 4])\n",
    "```"
   ]
  },
  {
   "cell_type": "code",
<<<<<<< HEAD
   "execution_count": 102,
   "metadata": {},
   "outputs": [
    {
     "name": "stderr",
     "output_type": "stream",
     "text": [
      "c:\\users\\nikita\\appdata\\local\\programs\\python\\python37-32\\lib\\site-packages\\ipykernel_launcher.py:2: RuntimeWarning: Mean of empty slice\n",
      "  \n"
     ]
    },
    {
     "data": {
      "text/plain": [
       "array([[0. , 0. , 0. ],\n",
       "       [4. , 4.5, 5. ],\n",
       "       [8. , 8. , 8. ],\n",
       "       [0.6, 0.8, 1. ]])"
      ]
     },
     "execution_count": 102,
     "metadata": {},
     "output_type": "execute_result"
    }
   ],
   "source": [
    "def replace_nans(X):\n",
    "    replace_value = np.nanmean(X, axis= 1)\n",
    "    X = np.nan_to_num(X, nan=replace_value[:, np.newaxis])\n",
    "    return np.where(np.isnan(X), 0, X)\n",
    "\n",
    "def replace_nans(X):\n",
    "    return np.where(np.isnan(X), np.ma.array(X, mask=np.isnan(X)).mean(axis=1)[:, np.newaxis], X)\n",
    "X = np.array([[np.nan, np.nan,  np.nan],\n",
    "              [     4, np.nan,       5],\n",
    "              [np.nan,      8,  np.nan],\n",
    "              [0.6, np.nan, 1]])\n",
    "\n",
    "replace_nans(X)\n",
    "# np.where(np.isnan(X), np.ma.array(X, mask=np.isnan(X)).mean(axis=1)[:, np.newaxis], X)"
=======
   "execution_count": 6,
   "metadata": {},
   "outputs": [],
   "source": [
    "def num_sum(a: np.ndarray) -> np.ndarray:\n",
    "    ### ╰( ͡° ͜ʖ ͡° )つ──☆*:・ﾟ\n",
    "    pass"
>>>>>>> 0499743bc066d9c0a3470196cdac114b67429047
   ]
  },
  {
   "cell_type": "markdown",
   "metadata": {},
   "source": [
    "----"
   ]
  },
  {
   "cell_type": "markdown",
   "metadata": {},
   "source": [
    "## (2 балла) Задание №8. Чистка NaN-ов в строке"
   ]
  },
  {
   "cell_type": "markdown",
   "metadata": {},
   "source": [
    "Одна из важных проблем данных - пустые значения. В *numpy* и *pandas* они обычно объявляются специальным типом ```np.nan```. В реальных задачах нам часто нужно что-то сделать с этими значениями. Например заменить на 0, среднее или медиану.\n",
    "\n",
    "Реализуйте функцию, каторая во входной вещественной матрице ```X``` находит все значения ```nan``` и заменяет их на **медиану** остальных элементов строки. Если все элементы строки матрицы ```nan```, то заполняем строчку нулями.\n",
    "\n",
    "Подсказка: посмотрите на функции ```np.nan_to_num``` и ```np.nanmean```, которые работают с ```np.nan``` значениями."
   ]
  },
  {
   "cell_type": "markdown",
   "metadata": {},
   "source": [
    "### Sample\n",
    "#### Input:\n",
    "```python\n",
    "X = np.array([[np.nan, np.nan,  np.nan],\n",
    "              [     4, np.nan,       5],\n",
    "              [np.nan,      8,  np.nan]])\n",
    "```\n",
    "#### Output:\n",
    "```python\n",
    "array([[0. , 0. , 0. ],\n",
    "       [4. , 4.5, 5. ],\n",
    "       [8. , 8. , 8. ]])\n",
    "```\n"
   ]
  },
  {
   "cell_type": "code",
<<<<<<< HEAD
   "execution_count": 45,
   "metadata": {},
   "outputs": [
    {
     "ename": "TypeError",
     "evalue": "iteration over a 0-d array",
     "output_type": "error",
     "traceback": [
      "\u001b[1;31m---------------------------------------------------------------------------\u001b[0m",
      "\u001b[1;31mTypeError\u001b[0m                                 Traceback (most recent call last)",
      "\u001b[1;32m<ipython-input-45-7408c2372dfa>\u001b[0m in \u001b[0;36m<module>\u001b[1;34m\u001b[0m\n\u001b[0;32m      9\u001b[0m \u001b[0mc\u001b[0m \u001b[1;33m=\u001b[0m \u001b[0mnp\u001b[0m\u001b[1;33m.\u001b[0m\u001b[0mvectorize\u001b[0m\u001b[1;33m(\u001b[0m\u001b[0mstr\u001b[0m\u001b[1;33m)\u001b[0m\u001b[1;33m\u001b[0m\u001b[1;33m\u001b[0m\u001b[0m\n\u001b[0;32m     10\u001b[0m \u001b[0mf\u001b[0m \u001b[1;33m=\u001b[0m \u001b[0mnp\u001b[0m\u001b[1;33m.\u001b[0m\u001b[0mvectorize\u001b[0m\u001b[1;33m(\u001b[0m\u001b[1;32mlambda\u001b[0m \u001b[0me\u001b[0m\u001b[1;33m:\u001b[0m \u001b[0msum\u001b[0m\u001b[1;33m(\u001b[0m\u001b[0mg\u001b[0m\u001b[1;33m(\u001b[0m\u001b[0mc\u001b[0m\u001b[1;33m(\u001b[0m\u001b[0me\u001b[0m\u001b[1;33m)\u001b[0m\u001b[1;33m)\u001b[0m\u001b[1;33m)\u001b[0m\u001b[1;33m)\u001b[0m\u001b[1;33m\u001b[0m\u001b[1;33m\u001b[0m\u001b[0m\n\u001b[1;32m---> 11\u001b[1;33m \u001b[0mf\u001b[0m\u001b[1;33m(\u001b[0m\u001b[0mx\u001b[0m\u001b[1;33m)\u001b[0m\u001b[1;33m\u001b[0m\u001b[1;33m\u001b[0m\u001b[0m\n\u001b[0m\u001b[0;32m     12\u001b[0m \u001b[1;31m# num_sum(x)\u001b[0m\u001b[1;33m\u001b[0m\u001b[1;33m\u001b[0m\u001b[1;33m\u001b[0m\u001b[0m\n",
      "\u001b[1;32mc:\\users\\nikita\\appdata\\local\\programs\\python\\python37-32\\lib\\site-packages\\numpy\\lib\\function_base.py\u001b[0m in \u001b[0;36m__call__\u001b[1;34m(self, *args, **kwargs)\u001b[0m\n\u001b[0;32m   2089\u001b[0m             \u001b[0mvargs\u001b[0m\u001b[1;33m.\u001b[0m\u001b[0mextend\u001b[0m\u001b[1;33m(\u001b[0m\u001b[1;33m[\u001b[0m\u001b[0mkwargs\u001b[0m\u001b[1;33m[\u001b[0m\u001b[0m_n\u001b[0m\u001b[1;33m]\u001b[0m \u001b[1;32mfor\u001b[0m \u001b[0m_n\u001b[0m \u001b[1;32min\u001b[0m \u001b[0mnames\u001b[0m\u001b[1;33m]\u001b[0m\u001b[1;33m)\u001b[0m\u001b[1;33m\u001b[0m\u001b[1;33m\u001b[0m\u001b[0m\n\u001b[0;32m   2090\u001b[0m \u001b[1;33m\u001b[0m\u001b[0m\n\u001b[1;32m-> 2091\u001b[1;33m         \u001b[1;32mreturn\u001b[0m \u001b[0mself\u001b[0m\u001b[1;33m.\u001b[0m\u001b[0m_vectorize_call\u001b[0m\u001b[1;33m(\u001b[0m\u001b[0mfunc\u001b[0m\u001b[1;33m=\u001b[0m\u001b[0mfunc\u001b[0m\u001b[1;33m,\u001b[0m \u001b[0margs\u001b[0m\u001b[1;33m=\u001b[0m\u001b[0mvargs\u001b[0m\u001b[1;33m)\u001b[0m\u001b[1;33m\u001b[0m\u001b[1;33m\u001b[0m\u001b[0m\n\u001b[0m\u001b[0;32m   2092\u001b[0m \u001b[1;33m\u001b[0m\u001b[0m\n\u001b[0;32m   2093\u001b[0m     \u001b[1;32mdef\u001b[0m \u001b[0m_get_ufunc_and_otypes\u001b[0m\u001b[1;33m(\u001b[0m\u001b[0mself\u001b[0m\u001b[1;33m,\u001b[0m \u001b[0mfunc\u001b[0m\u001b[1;33m,\u001b[0m \u001b[0margs\u001b[0m\u001b[1;33m)\u001b[0m\u001b[1;33m:\u001b[0m\u001b[1;33m\u001b[0m\u001b[1;33m\u001b[0m\u001b[0m\n",
      "\u001b[1;32mc:\\users\\nikita\\appdata\\local\\programs\\python\\python37-32\\lib\\site-packages\\numpy\\lib\\function_base.py\u001b[0m in \u001b[0;36m_vectorize_call\u001b[1;34m(self, func, args)\u001b[0m\n\u001b[0;32m   2159\u001b[0m             \u001b[0mres\u001b[0m \u001b[1;33m=\u001b[0m \u001b[0mfunc\u001b[0m\u001b[1;33m(\u001b[0m\u001b[1;33m)\u001b[0m\u001b[1;33m\u001b[0m\u001b[1;33m\u001b[0m\u001b[0m\n\u001b[0;32m   2160\u001b[0m         \u001b[1;32melse\u001b[0m\u001b[1;33m:\u001b[0m\u001b[1;33m\u001b[0m\u001b[1;33m\u001b[0m\u001b[0m\n\u001b[1;32m-> 2161\u001b[1;33m             \u001b[0mufunc\u001b[0m\u001b[1;33m,\u001b[0m \u001b[0motypes\u001b[0m \u001b[1;33m=\u001b[0m \u001b[0mself\u001b[0m\u001b[1;33m.\u001b[0m\u001b[0m_get_ufunc_and_otypes\u001b[0m\u001b[1;33m(\u001b[0m\u001b[0mfunc\u001b[0m\u001b[1;33m=\u001b[0m\u001b[0mfunc\u001b[0m\u001b[1;33m,\u001b[0m \u001b[0margs\u001b[0m\u001b[1;33m=\u001b[0m\u001b[0margs\u001b[0m\u001b[1;33m)\u001b[0m\u001b[1;33m\u001b[0m\u001b[1;33m\u001b[0m\u001b[0m\n\u001b[0m\u001b[0;32m   2162\u001b[0m \u001b[1;33m\u001b[0m\u001b[0m\n\u001b[0;32m   2163\u001b[0m             \u001b[1;31m# Convert args to object arrays first\u001b[0m\u001b[1;33m\u001b[0m\u001b[1;33m\u001b[0m\u001b[1;33m\u001b[0m\u001b[0m\n",
      "\u001b[1;32mc:\\users\\nikita\\appdata\\local\\programs\\python\\python37-32\\lib\\site-packages\\numpy\\lib\\function_base.py\u001b[0m in \u001b[0;36m_get_ufunc_and_otypes\u001b[1;34m(self, func, args)\u001b[0m\n\u001b[0;32m   2119\u001b[0m \u001b[1;33m\u001b[0m\u001b[0m\n\u001b[0;32m   2120\u001b[0m             \u001b[0minputs\u001b[0m \u001b[1;33m=\u001b[0m \u001b[1;33m[\u001b[0m\u001b[0marg\u001b[0m\u001b[1;33m.\u001b[0m\u001b[0mflat\u001b[0m\u001b[1;33m[\u001b[0m\u001b[1;36m0\u001b[0m\u001b[1;33m]\u001b[0m \u001b[1;32mfor\u001b[0m \u001b[0marg\u001b[0m \u001b[1;32min\u001b[0m \u001b[0margs\u001b[0m\u001b[1;33m]\u001b[0m\u001b[1;33m\u001b[0m\u001b[1;33m\u001b[0m\u001b[0m\n\u001b[1;32m-> 2121\u001b[1;33m             \u001b[0moutputs\u001b[0m \u001b[1;33m=\u001b[0m \u001b[0mfunc\u001b[0m\u001b[1;33m(\u001b[0m\u001b[1;33m*\u001b[0m\u001b[0minputs\u001b[0m\u001b[1;33m)\u001b[0m\u001b[1;33m\u001b[0m\u001b[1;33m\u001b[0m\u001b[0m\n\u001b[0m\u001b[0;32m   2122\u001b[0m \u001b[1;33m\u001b[0m\u001b[0m\n\u001b[0;32m   2123\u001b[0m             \u001b[1;31m# Performance note: profiling indicates that -- for simple\u001b[0m\u001b[1;33m\u001b[0m\u001b[1;33m\u001b[0m\u001b[1;33m\u001b[0m\u001b[0m\n",
      "\u001b[1;32m<ipython-input-45-7408c2372dfa>\u001b[0m in \u001b[0;36m<lambda>\u001b[1;34m(e)\u001b[0m\n\u001b[0;32m      8\u001b[0m \u001b[0mg\u001b[0m \u001b[1;33m=\u001b[0m \u001b[0mnp\u001b[0m\u001b[1;33m.\u001b[0m\u001b[0mvectorize\u001b[0m\u001b[1;33m(\u001b[0m\u001b[0mint\u001b[0m\u001b[1;33m)\u001b[0m\u001b[1;33m\u001b[0m\u001b[1;33m\u001b[0m\u001b[0m\n\u001b[0;32m      9\u001b[0m \u001b[0mc\u001b[0m \u001b[1;33m=\u001b[0m \u001b[0mnp\u001b[0m\u001b[1;33m.\u001b[0m\u001b[0mvectorize\u001b[0m\u001b[1;33m(\u001b[0m\u001b[0mstr\u001b[0m\u001b[1;33m)\u001b[0m\u001b[1;33m\u001b[0m\u001b[1;33m\u001b[0m\u001b[0m\n\u001b[1;32m---> 10\u001b[1;33m \u001b[0mf\u001b[0m \u001b[1;33m=\u001b[0m \u001b[0mnp\u001b[0m\u001b[1;33m.\u001b[0m\u001b[0mvectorize\u001b[0m\u001b[1;33m(\u001b[0m\u001b[1;32mlambda\u001b[0m \u001b[0me\u001b[0m\u001b[1;33m:\u001b[0m \u001b[0msum\u001b[0m\u001b[1;33m(\u001b[0m\u001b[0mg\u001b[0m\u001b[1;33m(\u001b[0m\u001b[0mc\u001b[0m\u001b[1;33m(\u001b[0m\u001b[0me\u001b[0m\u001b[1;33m)\u001b[0m\u001b[1;33m)\u001b[0m\u001b[1;33m)\u001b[0m\u001b[1;33m)\u001b[0m\u001b[1;33m\u001b[0m\u001b[1;33m\u001b[0m\u001b[0m\n\u001b[0m\u001b[0;32m     11\u001b[0m \u001b[0mf\u001b[0m\u001b[1;33m(\u001b[0m\u001b[0mx\u001b[0m\u001b[1;33m)\u001b[0m\u001b[1;33m\u001b[0m\u001b[1;33m\u001b[0m\u001b[0m\n\u001b[0;32m     12\u001b[0m \u001b[1;31m# num_sum(x)\u001b[0m\u001b[1;33m\u001b[0m\u001b[1;33m\u001b[0m\u001b[1;33m\u001b[0m\u001b[0m\n",
      "\u001b[1;31mTypeError\u001b[0m: iteration over a 0-d array"
     ]
    }
   ],
=======
   "execution_count": 9,
   "metadata": {},
   "outputs": [],
>>>>>>> 0499743bc066d9c0a3470196cdac114b67429047
   "source": [
    "def replace_nans(X: np.ndarray) -> np.ndarray:\n",
    "    ### ╰( ͡° ͜ʖ ͡° )つ──☆*:・ﾟ\n",
    "    digits_sum = list(map(lambda e: sum(map(int, str(e))), a))\n",
    "    return np.asarray(digits_sum)\n",
    "\n",
    "x = np.array([1241, 354, 121])\n",
    "x\n",
    "g = np.vectorize(int)\n",
    "c = np.vectorize(str)\n",
    "f = np.vectorize(lambda e: sum(g(c(e))))\n",
    "f(x)\n",
    "# num_sum(x)"
   ]
  },
  {
   "cell_type": "code",
   "execution_count": null,
   "metadata": {},
   "outputs": [],
   "source": []
  },
  {
   "cell_type": "markdown",
   "metadata": {},
   "source": [
    "----"
   ]
  },
  {
   "cell_type": "markdown",
   "metadata": {},
   "source": [
    "# Гробы\n",
    "Специальные задачи повышенной сложности. Баллы не входят в пулл 100% баллов. "
   ]
  },
  {
   "cell_type": "markdown",
   "metadata": {},
   "source": [
    "## *(2 балл) Задание №9. Жорданова форма."
   ]
  },
  {
   "cell_type": "markdown",
   "metadata": {},
   "source": [
    "Дан лист из **k** комплексных собственных чисел и их алгебраическими кратностями.\n",
    "\n",
    "Необходимо построить Жорданову матрицу по этим собственным числам. (матрица - numpy.array)\n",
    "\n",
    "Пример\n",
    "$$\\begin{pmatrix}\n",
    "2.2 & 1 & 0 & 0 & 0 & 0\\\\\n",
    "0 & 2.2 & 0 & 0 & 0 & 0\\\\\n",
    "0 & 0 & 3 & 1 & 0 & 0\\\\\n",
    "0 & 0 & 0 & 3 & 1 & 0\\\\\n",
    "0 & 0 & 0 & 0 & 3 & 0\\\\\n",
    "0 & 0 & 0 & 0 & 0 & 5+4j\n",
    "\\end{pmatrix}$$  \n",
    "\n",
    "Напоминание, Жорданова матрица состоит из блоков, где на главной диагонали стоят собственные числа, а следующая диагональ блока заполнена единицами. Блоки идут в том же порядке, что и в листе на входе."
   ]
  },
  {
   "cell_type": "markdown",
   "metadata": {},
   "source": [
    "### Sample 1\n",
    "#### Input:\n",
    "```python\n",
    "X = np.array([(2.2, 2), (3, 3), (5 + 4j, 1)])\n",
    "```\n",
    "#### Output:\n",
    "```python\n",
    "array([[2.2, 1. , 0. , 0. , 0. , 0. ],\n",
    "       [0. , 2.2, 0. , 0. , 0. , 0. ],\n",
    "       [0. , 0. , 3. , 1. , 0. , 0. ],\n",
    "       [0. , 0. , 0. , 3. , 1. , 0. ],\n",
    "       [0. , 0. , 0. , 0. , 3. , 0. ],\n",
    "       [0. , 0. , 0. , 0. , 0. , 5.+4.j ]])\n",
    "```"
   ]
  },
  {
   "cell_type": "code",
   "execution_count": 8,
   "metadata": {},
   "outputs": [],
   "source": [
    "def jordan_matrix2(n: int) -> np.ndarray:\n",
    "    ### ╰( ͡° ͜ʖ ͡° )つ──☆*:・ﾟ\n",
    "    pass"
   ]
  },
  {
   "cell_type": "markdown",
   "metadata": {},
   "source": [
    "---"
   ]
  },
  {
   "cell_type": "markdown",
   "metadata": {},
   "source": [
    "## Источники материалов:\n",
    "* [mlcourse.ai](https://github.com/Yorko/mlcourse.ai) - курс Машинного обучения с OpenDataScience\n",
    "* [AI Seminars](https://github.com/AICommunityInno/Seminars) - семинары по Машинному обучению в Иннополисе\n",
    "* [HSE-ML course](https://github.com/esokolov/ml-course-hse) - курс Машинного обучения ФКН ВШЭ"
   ]
  }
 ],
 "metadata": {
  "kernelspec": {
   "display_name": "Python 3",
   "language": "python",
   "name": "python3"
  },
  "language_info": {
   "codemirror_mode": {
    "name": "ipython",
    "version": 3
   },
   "file_extension": ".py",
   "mimetype": "text/x-python",
   "name": "python",
   "nbconvert_exporter": "python",
   "pygments_lexer": "ipython3",
   "version": "3.7.4"
  }
 },
 "nbformat": 4,
 "nbformat_minor": 4
}
