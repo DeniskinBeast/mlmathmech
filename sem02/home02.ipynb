{
 "cells": [
  {
   "cell_type": "markdown",
   "metadata": {},
   "source": [
    "# Домашнее задание №2. Pandas"
   ]
  },
  {
   "cell_type": "markdown",
   "metadata": {},
   "source": [
    "### Общие Правила выполнения дз:\n",
    "* У функции нельзя менять название, иначе тесты не будут проходить.\n",
    "* Можно делать дополнительные функции как внутри исходной функции, так и вне нее. Но ее также придется отправить.\n",
    "* Можно бользоваться сокращениями `np`, `pd`, `sc` для стандартных библиотек.\n",
    "* Нельзя ничего считывать с диска, если в коде функции присутствуют `open` и др. функции чтения или записи - задача не засчитывается.\n"
   ]
  },
  {
   "cell_type": "markdown",
   "metadata": {},
   "source": [
    "## В этой домашке также запрещается использовать циклы for и while"
   ]
  },
  {
   "cell_type": "code",
   "execution_count": 20,
   "metadata": {},
   "outputs": [],
   "source": [
    "import numpy as np\n",
    "import pandas as pd"
   ]
  },
  {
   "cell_type": "markdown",
   "metadata": {},
   "source": [
    "## (2 балл) Задание №1. Бухгалтерия зоопарка."
   ]
  },
  {
   "cell_type": "markdown",
   "metadata": {},
   "source": [
    "Вам на вход подается словарь, где ключ - это тип животного, а значение - словарь с признаками этого животного, где ключ - тип признака, а значение - значение признака. \n",
    "\n",
    "Вам следует создать табличку, где по строчкам будут идти животные, а по колонкам - их признаки, которая удовлетворяет следующим условиям\n",
    "* Тип животного нужно выделить в отдельную колонку `Type`\n",
    "* Строки отсортированы по типу животного в алфавитном порядке\n",
    "* Колонки отсортированы в алфавитном порядке, кроме колонки `Type` - она первая\n",
    "* Индексы строк - ряд натуральных чисел начиная с 0 без пропусков.\n",
    "\n",
    "Имейте в виду, что признаки у двух животных могут не совпадать, значит незаполненные данные нужно заполнить Nan значением.\n",
    "\n",
    "Верните на выходе **2** таблички(`DataFrame`): \n",
    "1. В которой присутствуют все признаки и все животные.\n",
    "2. В которой отсутствуют Nan значения, но при этом могут отсутствовать некоторые признаки (животные должны присутствовать все). Если табличка будет пустой - возвращайте пустую табличку."
   ]
  },
  {
   "cell_type": "markdown",
   "metadata": {},
   "source": [
    "### Sample 1\n",
    "#### Input:\n",
    "```python\n",
    "ZOO = {\n",
    "        'cat':{'color':'black', 'tail_len': 50, 'injured': False}, \n",
    "        'dog':{'age': 6, 'tail_len': 30.5, 'injured': True}\n",
    "      }\n",
    "```\n",
    "#### Output:\n",
    "```python\n",
    "table1 = \n",
    "  Type  age  color  tail_len  injured\n",
    "0  cat  NaN  black      50.0    False\n",
    "1  dog  6.0    NaN      35.5     True\n",
    "\n",
    "tabel2 = \n",
    "  Type  tail_len  injured\n",
    "0  cat      50.0    False\n",
    "1  dog      35.5     True\n",
    "```"
   ]
  },
  {
   "cell_type": "code",
<<<<<<< HEAD
   "execution_count": 30,
=======
   "execution_count": 4,
>>>>>>> 0499743bc066d9c0a3470196cdac114b67429047
   "metadata": {},
   "outputs": [
    {
     "data": {
      "text/html": [
       "<div>\n",
       "<style scoped>\n",
       "    .dataframe tbody tr th:only-of-type {\n",
       "        vertical-align: middle;\n",
       "    }\n",
       "\n",
       "    .dataframe tbody tr th {\n",
       "        vertical-align: top;\n",
       "    }\n",
       "\n",
       "    .dataframe thead th {\n",
       "        text-align: right;\n",
       "    }\n",
       "</style>\n",
       "<table border=\"1\" class=\"dataframe\">\n",
       "  <thead>\n",
       "    <tr style=\"text-align: right;\">\n",
       "      <th></th>\n",
       "      <th>color</th>\n",
       "      <th>tail_len</th>\n",
       "      <th>Type</th>\n",
       "      <th>age</th>\n",
       "      <th>injured</th>\n",
       "    </tr>\n",
       "  </thead>\n",
       "  <tbody>\n",
       "    <tr>\n",
       "      <td>0</td>\n",
       "      <td>black</td>\n",
       "      <td>50.0</td>\n",
       "      <td>cat</td>\n",
       "      <td>NaN</td>\n",
       "      <td>NaN</td>\n",
       "    </tr>\n",
       "    <tr>\n",
       "      <td>1</td>\n",
       "      <td>NaN</td>\n",
       "      <td>30.5</td>\n",
       "      <td>dog</td>\n",
       "      <td>6.0</td>\n",
       "      <td>True</td>\n",
       "    </tr>\n",
       "  </tbody>\n",
       "</table>\n",
       "</div>"
      ],
      "text/plain": [
       "   color  tail_len Type  age injured\n",
       "0  black      50.0  cat  NaN     NaN\n",
       "1    NaN      30.5  dog  6.0    True"
      ]
     },
     "execution_count": 30,
     "metadata": {},
     "output_type": "execute_result"
    }
   ],
   "source": [
<<<<<<< HEAD
    "# Транспонировать таблицу\n",
    "\n",
    "# def ZOOTable(zoo: dict) -> pd.DataFrame, pd.DataFrame :\n",
    "#     ### ╰( ͡° ͜ʖ ͡° )つ──☆*:・ﾟ\n",
    "#     pass\n",
    "\n",
    "ZOO = {\n",
    "        'cat':{'color':'black', 'tail_len': 50}, \n",
    "        'dog':{'age': 6, 'tail_len': 30.5, 'injured': True}\n",
    "      }\n",
    " \n",
    "\n",
    "def f(a):\n",
    "    a[1]['Type'] = a[0]\n",
    "    return a\n",
    "\n",
    "t = []\n",
    "a = list(map(lambda e: f(e), list(ZOO.items())))\n",
    "list(map(lambda e: t.append(e[1]), a))\n",
    "\n",
    "\n",
    "df1 = pd.DataFrame(data=t[0], index=np.arange(1))\n",
    "df2 = pd.DataFrame(data=t[1], index=np.arange(1))\n",
    "df = df1.merge(df2, how='outer')\n",
    "df\n",
    "\n",
    "# df = pd.DataFrame(ZOO)\n",
    "# df = df.T\n",
    "# df"
=======
    "def ZOOTable(zoo: dict) -> (pd.DataFrame, pd.DataFrame) :\n",
    "    ### ╰( ͡° ͜ʖ ͡° )つ──☆*:・ﾟ\n",
    "    pass"
>>>>>>> 0499743bc066d9c0a3470196cdac114b67429047
   ]
  },
  {
   "cell_type": "markdown",
   "metadata": {},
   "source": [
    "### А сейчас пойдут задачки с самым легендарным датасетом для изучения МЛ - Titanic. В нем записи пассажиров титаника и их некоторые признаки."
   ]
  },
  {
   "cell_type": "markdown",
   "metadata": {},
   "source": [
    "#### На вход каждой следующей задачи поступает на вход неизмененный ДатаФрейм титаника. Чтобы посмотреть на него, можете загрузить его с помощью команды:"
   ]
  },
  {
   "cell_type": "code",
   "execution_count": 21,
   "metadata": {},
   "outputs": [],
   "source": [
    "data = pd.read_csv('data/titanic_train.csv', index_col='PassengerId')"
   ]
  },
  {
   "cell_type": "code",
   "execution_count": 121,
   "metadata": {},
   "outputs": [
    {
     "data": {
      "text/html": [
       "<div>\n",
       "<style scoped>\n",
       "    .dataframe tbody tr th:only-of-type {\n",
       "        vertical-align: middle;\n",
       "    }\n",
       "\n",
       "    .dataframe tbody tr th {\n",
       "        vertical-align: top;\n",
       "    }\n",
       "\n",
       "    .dataframe thead th {\n",
       "        text-align: right;\n",
       "    }\n",
       "</style>\n",
       "<table border=\"1\" class=\"dataframe\">\n",
       "  <thead>\n",
       "    <tr style=\"text-align: right;\">\n",
       "      <th></th>\n",
       "      <th>Survived</th>\n",
       "      <th>Pclass</th>\n",
       "      <th>Name</th>\n",
       "      <th>Sex</th>\n",
       "      <th>Age</th>\n",
       "      <th>SibSp</th>\n",
       "      <th>Parch</th>\n",
       "      <th>Ticket</th>\n",
       "      <th>Fare</th>\n",
       "      <th>Cabin</th>\n",
       "      <th>Embarked</th>\n",
       "    </tr>\n",
       "    <tr>\n",
       "      <th>PassengerId</th>\n",
       "      <th></th>\n",
       "      <th></th>\n",
       "      <th></th>\n",
       "      <th></th>\n",
       "      <th></th>\n",
       "      <th></th>\n",
       "      <th></th>\n",
       "      <th></th>\n",
       "      <th></th>\n",
       "      <th></th>\n",
       "      <th></th>\n",
       "    </tr>\n",
       "  </thead>\n",
       "  <tbody>\n",
       "    <tr>\n",
       "      <td>1</td>\n",
       "      <td>0</td>\n",
       "      <td>3</td>\n",
       "      <td>Braund, Mr. Owen Harris</td>\n",
       "      <td>male</td>\n",
       "      <td>22.0</td>\n",
       "      <td>1</td>\n",
       "      <td>0</td>\n",
       "      <td>A/5 21171</td>\n",
       "      <td>7.2500</td>\n",
       "      <td>NaN</td>\n",
       "      <td>S</td>\n",
       "    </tr>\n",
       "    <tr>\n",
       "      <td>2</td>\n",
       "      <td>1</td>\n",
       "      <td>1</td>\n",
       "      <td>Cumings, Mrs. John Bradley (Florence Briggs Th...</td>\n",
       "      <td>female</td>\n",
       "      <td>38.0</td>\n",
       "      <td>1</td>\n",
       "      <td>0</td>\n",
       "      <td>PC 17599</td>\n",
       "      <td>71.2833</td>\n",
       "      <td>C85</td>\n",
       "      <td>C</td>\n",
       "    </tr>\n",
       "    <tr>\n",
       "      <td>3</td>\n",
       "      <td>1</td>\n",
       "      <td>3</td>\n",
       "      <td>Heikkinen, Miss. Laina</td>\n",
       "      <td>female</td>\n",
       "      <td>26.0</td>\n",
       "      <td>0</td>\n",
       "      <td>0</td>\n",
       "      <td>STON/O2. 3101282</td>\n",
       "      <td>7.9250</td>\n",
       "      <td>NaN</td>\n",
       "      <td>S</td>\n",
       "    </tr>\n",
       "    <tr>\n",
       "      <td>4</td>\n",
       "      <td>1</td>\n",
       "      <td>1</td>\n",
       "      <td>Futrelle, Mrs. Jacques Heath (Lily May Peel)</td>\n",
       "      <td>female</td>\n",
       "      <td>35.0</td>\n",
       "      <td>1</td>\n",
       "      <td>0</td>\n",
       "      <td>113803</td>\n",
       "      <td>53.1000</td>\n",
       "      <td>C123</td>\n",
       "      <td>S</td>\n",
       "    </tr>\n",
       "    <tr>\n",
       "      <td>5</td>\n",
       "      <td>0</td>\n",
       "      <td>3</td>\n",
       "      <td>Allen, Mr. William Henry</td>\n",
       "      <td>male</td>\n",
       "      <td>35.0</td>\n",
       "      <td>0</td>\n",
       "      <td>0</td>\n",
       "      <td>373450</td>\n",
       "      <td>8.0500</td>\n",
       "      <td>NaN</td>\n",
       "      <td>S</td>\n",
       "    </tr>\n",
       "  </tbody>\n",
       "</table>\n",
       "</div>"
      ],
      "text/plain": [
       "             Survived  Pclass  \\\n",
       "PassengerId                     \n",
       "1                   0       3   \n",
       "2                   1       1   \n",
       "3                   1       3   \n",
       "4                   1       1   \n",
       "5                   0       3   \n",
       "\n",
       "                                                          Name     Sex   Age  \\\n",
       "PassengerId                                                                    \n",
       "1                                      Braund, Mr. Owen Harris    male  22.0   \n",
       "2            Cumings, Mrs. John Bradley (Florence Briggs Th...  female  38.0   \n",
       "3                                       Heikkinen, Miss. Laina  female  26.0   \n",
       "4                 Futrelle, Mrs. Jacques Heath (Lily May Peel)  female  35.0   \n",
       "5                                     Allen, Mr. William Henry    male  35.0   \n",
       "\n",
       "             SibSp  Parch            Ticket     Fare Cabin Embarked  \n",
       "PassengerId                                                          \n",
       "1                1      0         A/5 21171   7.2500   NaN        S  \n",
       "2                1      0          PC 17599  71.2833   C85        C  \n",
       "3                0      0  STON/O2. 3101282   7.9250   NaN        S  \n",
       "4                1      0            113803  53.1000  C123        S  \n",
       "5                0      0            373450   8.0500   NaN        S  "
      ]
     },
     "execution_count": 121,
     "metadata": {},
     "output_type": "execute_result"
    }
   ],
   "source": [
    "data.head()"
   ]
  },
  {
   "cell_type": "markdown",
   "metadata": {},
   "source": [
    "## (1 балл) Задание №2."
   ]
  },
  {
   "cell_type": "markdown",
   "metadata": {},
   "source": [
    "Верните среднее, медиану, максимальное и минимальное значение возраста мужчин. Именно в данном порядке."
   ]
  },
  {
   "cell_type": "code",
   "execution_count": 136,
   "metadata": {},
   "outputs": [
    {
     "data": {
      "text/plain": [
       "(30.72664459161148, 29.0, 80.0, 0.42)"
      ]
     },
     "execution_count": 136,
     "metadata": {},
     "output_type": "execute_result"
    }
   ],
   "source": [
    "def men_stat(df: pd.DataFrame) -> (float, float, float, float):\n",
    "    target_col = df[df['Sex'] == 'male']['Age']\n",
    "    average = target_col.mean()\n",
    "    median = target_col.median()\n",
    "    maximum = target_col.max()\n",
    "    minimum = target_col.min()\n",
    "    return(average, median, maximum, minimum)\n",
    "\n",
    "men_stat(data)"
   ]
  },
  {
   "cell_type": "markdown",
   "metadata": {},
   "source": [
    "## (1 балл) Задание №3."
   ]
  },
  {
   "cell_type": "markdown",
   "metadata": {},
   "source": [
    "Узнаем правда ли, что женщины выживали чаще мужчин? Верните доли выживших женщин и мужчин в обеих группах? Порядок: женщины, мужчины."
   ]
  },
  {
   "cell_type": "code",
   "execution_count": 138,
   "metadata": {},
   "outputs": [
    {
     "data": {
      "text/plain": [
       "(0.7420382165605095, 0.18890814558058924)"
      ]
     },
     "execution_count": 138,
     "metadata": {},
     "output_type": "execute_result"
    }
   ],
   "source": [
    "def live_stat(df: pd.DataFrame) -> (float, float):\n",
    "    woman_survived = df[df['Sex'] == 'female']['Survived'].mean()\n",
    "    men_survived = df[df['Sex'] == 'male'][\"Survived\"].mean()\n",
    "    return (woman_survived, men_survived)\n",
    "\n",
    "live_stat(data)"
   ]
  },
  {
   "cell_type": "markdown",
   "metadata": {},
   "source": [
    "## (2 балл) Задание №4."
   ]
  },
  {
   "cell_type": "markdown",
   "metadata": {},
   "source": [
    "Выведите список имен женщин отсортированный по популярности. \n",
    "* Если в строке присутствует слово `Miss.`, то имя - первое слово после `Miss`.\n",
    "* Если в строке присутствует слово `Mrs.`, то имя - первое слово после `(`.\n",
    "* Остальные строки не рассматриваем.\n",
    "* Одинаковые имена сортируются по алфавиту."
   ]
  },
  {
   "cell_type": "code",
   "execution_count": 45,
   "metadata": {},
   "outputs": [
    {
     "data": {
      "text/plain": [
       "PassengerId\n",
       "2       [(Florence]\n",
       "4           [(Lily]\n",
       "9      [(Elisabeth]\n",
       "10         [(Adele]\n",
       "16          [(Mary]\n",
       "           ...     \n",
       "872       [(Sallie]\n",
       "875       [(Hannah]\n",
       "880         [(Lily]\n",
       "881      [(Imanita]\n",
       "886     [(Margaret]\n",
       "Name: Name, Length: 129, dtype: object"
      ]
     },
     "execution_count": 45,
     "metadata": {},
     "output_type": "execute_result"
    }
   ],
   "source": [
    "# Может неправильно понял задание, но в таблице нет повторяющихся имен, либо нужно было прям выуживать имя из поля Name???\n",
    "\n",
    "def fename_stat(df: pd.DataFrame) -> pd.Series:\n",
    "#     s = df[df['Sex'] == 'female']['Name'].value_counts()\n",
    "    return df[df['Sex'] == 'female']['Name'].sort_values()\n",
    "\n",
    "# s = data[data['Sex'] == 'female']['Name'].value_counts().max()\n",
    "# data[data['Sex'] == 'female']['Name']\n",
    "\n",
    "data_copy = data.copy()\n",
    "\n",
    "not_married_woman = data_copy[(data_copy['Sex'] == 'female') & (data_copy['Name'].str.contains('Miss.'))]['Name']\n",
    "married_woman = data_copy[(data_copy['Sex'] == 'female') & (data_copy['Name'].str.contains('Mrs.'))]['Name']\n",
    "                          \n",
    "not_married_woman.apply(lambda str: str.split(' ')[str.split(' ').index('Miss.') + 1])\n",
    "married_woman.apply(lambda str: list(filter(lambda w: w.startswith('('), str.split(' '))))"
   ]
  },
  {
   "cell_type": "markdown",
   "metadata": {},
   "source": [
    "## (1 балл) Задание №5."
   ]
  },
  {
   "cell_type": "markdown",
   "metadata": {},
   "source": [
    "Сделать сводную таблицу по **среднему возрасту** для пола и класса. Для примера посмотрите сводную таблицу по сумме выживших, для пола и класса. \n",
    "```Python\n",
    "               Survived\n",
    "Sex    Pclass          \n",
    "female 1             91\n",
    "       2             70\n",
    "       3             72\n",
    "male   1             45\n",
    "       2             17\n",
    "       3             47\n",
    "\n",
    "```"
   ]
  },
  {
   "cell_type": "code",
   "execution_count": 3,
   "metadata": {},
   "outputs": [
    {
     "data": {
      "text/html": [
       "<div>\n",
       "<style scoped>\n",
       "    .dataframe tbody tr th:only-of-type {\n",
       "        vertical-align: middle;\n",
       "    }\n",
       "\n",
       "    .dataframe tbody tr th {\n",
       "        vertical-align: top;\n",
       "    }\n",
       "\n",
       "    .dataframe thead th {\n",
       "        text-align: right;\n",
       "    }\n",
       "</style>\n",
       "<table border=\"1\" class=\"dataframe\">\n",
       "  <thead>\n",
       "    <tr style=\"text-align: right;\">\n",
       "      <th></th>\n",
       "      <th></th>\n",
       "      <th>Survived</th>\n",
       "    </tr>\n",
       "    <tr>\n",
       "      <th>Sex</th>\n",
       "      <th>Pclass</th>\n",
       "      <th></th>\n",
       "    </tr>\n",
       "  </thead>\n",
       "  <tbody>\n",
       "    <tr>\n",
       "      <td rowspan=\"3\" valign=\"top\">female</td>\n",
       "      <td>1</td>\n",
       "      <td>0.968085</td>\n",
       "    </tr>\n",
       "    <tr>\n",
       "      <td>2</td>\n",
       "      <td>0.921053</td>\n",
       "    </tr>\n",
       "    <tr>\n",
       "      <td>3</td>\n",
       "      <td>0.500000</td>\n",
       "    </tr>\n",
       "    <tr>\n",
       "      <td rowspan=\"3\" valign=\"top\">male</td>\n",
       "      <td>1</td>\n",
       "      <td>0.368852</td>\n",
       "    </tr>\n",
       "    <tr>\n",
       "      <td>2</td>\n",
       "      <td>0.157407</td>\n",
       "    </tr>\n",
       "    <tr>\n",
       "      <td>3</td>\n",
       "      <td>0.135447</td>\n",
       "    </tr>\n",
       "  </tbody>\n",
       "</table>\n",
       "</div>"
      ],
      "text/plain": [
       "               Survived\n",
       "Sex    Pclass          \n",
       "female 1       0.968085\n",
       "       2       0.921053\n",
       "       3       0.500000\n",
       "male   1       0.368852\n",
       "       2       0.157407\n",
       "       3       0.135447"
      ]
     },
     "execution_count": 3,
     "metadata": {},
     "output_type": "execute_result"
    }
   ],
   "source": [
    "def age_stat(df: pd.DataFrame) -> pd.DataFrame:\n",
    "    ### ╰( ͡° ͜ʖ ͡° )つ──☆*:・ﾟ\n",
    "    return df.pivot_table(values=['Survived'],\n",
    "                index=['Sex', 'Pclass'],\n",
    "                aggfunc=lambda x: x.mean())\n",
    "\n",
    "age_stat(data)"
   ]
  },
  {
   "cell_type": "markdown",
   "metadata": {},
   "source": [
    "## *(2 балл) Задание №6."
   ]
  },
  {
   "cell_type": "markdown",
   "metadata": {},
   "source": [
    "Вывести таблицу с кабинами, в которых живут более одного человека и столбец листов с именами этих пассажиров. \n",
    "В таблице должно присутствовать 2 столбца: `Cabin` и `Passengers`. Строки отсортированы по `Cabin` в алфавитном порядке. Элементы в листе могут быть в любом порядке."
   ]
  },
  {
   "cell_type": "code",
   "execution_count": 194,
   "metadata": {},
   "outputs": [
    {
     "ename": "KeyError",
     "evalue": "'Passengers'",
     "output_type": "error",
     "traceback": [
      "\u001b[1;31m---------------------------------------------------------------------------\u001b[0m",
      "\u001b[1;31mKeyError\u001b[0m                                  Traceback (most recent call last)",
      "\u001b[1;32m<ipython-input-194-6dcc7ef96614>\u001b[0m in \u001b[0;36m<module>\u001b[1;34m\u001b[0m\n\u001b[0;32m      8\u001b[0m data_copy.pivot_table(values=['Passengers'],\n\u001b[0;32m      9\u001b[0m                      \u001b[0mindex\u001b[0m\u001b[1;33m=\u001b[0m\u001b[1;33m[\u001b[0m\u001b[1;34m'Cabin'\u001b[0m\u001b[1;33m]\u001b[0m\u001b[1;33m,\u001b[0m\u001b[1;33m\u001b[0m\u001b[1;33m\u001b[0m\u001b[0m\n\u001b[1;32m---> 10\u001b[1;33m                      aggfunc=lambda x: x.count())\n\u001b[0m",
      "\u001b[1;32mc:\\users\\nikita\\appdata\\local\\programs\\python\\python37-32\\lib\\site-packages\\pandas\\core\\frame.py\u001b[0m in \u001b[0;36mpivot_table\u001b[1;34m(self, values, index, columns, aggfunc, fill_value, margins, dropna, margins_name, observed)\u001b[0m\n\u001b[0;32m   6072\u001b[0m             \u001b[0mdropna\u001b[0m\u001b[1;33m=\u001b[0m\u001b[0mdropna\u001b[0m\u001b[1;33m,\u001b[0m\u001b[1;33m\u001b[0m\u001b[1;33m\u001b[0m\u001b[0m\n\u001b[0;32m   6073\u001b[0m             \u001b[0mmargins_name\u001b[0m\u001b[1;33m=\u001b[0m\u001b[0mmargins_name\u001b[0m\u001b[1;33m,\u001b[0m\u001b[1;33m\u001b[0m\u001b[1;33m\u001b[0m\u001b[0m\n\u001b[1;32m-> 6074\u001b[1;33m             \u001b[0mobserved\u001b[0m\u001b[1;33m=\u001b[0m\u001b[0mobserved\u001b[0m\u001b[1;33m,\u001b[0m\u001b[1;33m\u001b[0m\u001b[1;33m\u001b[0m\u001b[0m\n\u001b[0m\u001b[0;32m   6075\u001b[0m         )\n\u001b[0;32m   6076\u001b[0m \u001b[1;33m\u001b[0m\u001b[0m\n",
      "\u001b[1;32mc:\\users\\nikita\\appdata\\local\\programs\\python\\python37-32\\lib\\site-packages\\pandas\\core\\reshape\\pivot.py\u001b[0m in \u001b[0;36mpivot_table\u001b[1;34m(data, values, index, columns, aggfunc, fill_value, margins, dropna, margins_name, observed)\u001b[0m\n\u001b[0;32m     70\u001b[0m         \u001b[1;32mfor\u001b[0m \u001b[0mi\u001b[0m \u001b[1;32min\u001b[0m \u001b[0mvalues\u001b[0m\u001b[1;33m:\u001b[0m\u001b[1;33m\u001b[0m\u001b[1;33m\u001b[0m\u001b[0m\n\u001b[0;32m     71\u001b[0m             \u001b[1;32mif\u001b[0m \u001b[0mi\u001b[0m \u001b[1;32mnot\u001b[0m \u001b[1;32min\u001b[0m \u001b[0mdata\u001b[0m\u001b[1;33m:\u001b[0m\u001b[1;33m\u001b[0m\u001b[1;33m\u001b[0m\u001b[0m\n\u001b[1;32m---> 72\u001b[1;33m                 \u001b[1;32mraise\u001b[0m \u001b[0mKeyError\u001b[0m\u001b[1;33m(\u001b[0m\u001b[0mi\u001b[0m\u001b[1;33m)\u001b[0m\u001b[1;33m\u001b[0m\u001b[1;33m\u001b[0m\u001b[0m\n\u001b[0m\u001b[0;32m     73\u001b[0m \u001b[1;33m\u001b[0m\u001b[0m\n\u001b[0;32m     74\u001b[0m         \u001b[0mto_filter\u001b[0m \u001b[1;33m=\u001b[0m \u001b[1;33m[\u001b[0m\u001b[1;33m]\u001b[0m\u001b[1;33m\u001b[0m\u001b[1;33m\u001b[0m\u001b[0m\n",
      "\u001b[1;31mKeyError\u001b[0m: 'Passengers'"
     ]
    }
   ],
   "source": [
    "def big_cabins(df: pd.DataFrame) -> pd.DataFrame:\n",
    "    ### ╰( ͡° ͜ʖ ͡° )つ──☆*:・ﾟ\n",
    "    pass\n",
    "\n",
    "data['Cabin'].sort_values()\n",
    "\n",
    "data_copy = data.copy()\n",
    "data_copy['Passengers'] = \n",
    "# data_copy.pivot_table(values=['Passengers'],\n",
    "#                      index=['Cabin'],\n",
    "#                      aggfunc=lambda x: x.count())\n"
   ]
  },
  {
   "cell_type": "markdown",
   "metadata": {},
   "source": [
    "## (1 балл) Задание №7."
   ]
  },
  {
   "cell_type": "markdown",
   "metadata": {},
   "source": [
    "С помощью метода apply оставте в колонке `Name` только фамилию написанную полностью в верхнем регистре в **одну строчку**."
   ]
  },
  {
   "cell_type": "code",
   "execution_count": 13,
   "metadata": {},
   "outputs": [
    {
     "data": {
      "text/plain": [
       "PassengerId\n",
       "1         BRAUND\n",
       "2        CUMINGS\n",
       "3      HEIKKINEN\n",
       "4       FUTRELLE\n",
       "5          ALLEN\n",
       "         ...    \n",
       "887     MONTVILA\n",
       "888       GRAHAM\n",
       "889     JOHNSTON\n",
       "890         BEHR\n",
       "891       DOOLEY\n",
       "Name: Name, Length: 891, dtype: object"
      ]
     },
     "execution_count": 13,
     "metadata": {},
     "output_type": "execute_result"
    }
   ],
   "source": [
    "# Таких фамилий нет, втф?\n",
    "def simple_name(df: pd.DataFrame) -> pd.DataFrame:\n",
    "    ### ╰( ͡° ͜ʖ ͡° )つ──☆*:・ﾟ\n",
    "    df['Name'] = df['Name'].apply(lambda str: str.split(',')[0].upper())\n",
    "    return df['Name']\n",
    "\n",
    "simple_name(data)\n",
    "# data_copy = data.copy()\n",
    "# data[data['Name'].apply(lambda str: list(str.split(','))[0].upper() == list(str.split(','))[0])]\n",
    "\n",
    "# data_copy['Name'] = data_copy['Name'].map(lambda str: change(str))\n",
    "# data_copy[data_copy['Name'].apply(lambda str: str == str.upper())]"
   ]
  },
  {
   "cell_type": "markdown",
   "metadata": {},
   "source": [
    "## Источники материалов:\n",
    "* [mlcourse.ai](https://github.com/Yorko/mlcourse.ai) - курс Машинного обучения с OpenDataScience\n",
    "* [AI Seminars](https://github.com/AICommunityInno/Seminars) - семинары по Машинному обучению в Иннополисе\n",
    "* [HSE-ML course](https://github.com/esokolov/ml-course-hse) - курс Машинного обучения ФКН ВШЭ"
   ]
  }
 ],
 "metadata": {
  "kernelspec": {
   "display_name": "Python 3",
   "language": "python",
   "name": "python3"
  },
  "language_info": {
   "codemirror_mode": {
    "name": "ipython",
    "version": 3
   },
   "file_extension": ".py",
   "mimetype": "text/x-python",
   "name": "python",
   "nbconvert_exporter": "python",
   "pygments_lexer": "ipython3",
   "version": "3.7.4"
  }
 },
 "nbformat": 4,
 "nbformat_minor": 4
}
