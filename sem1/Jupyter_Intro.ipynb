{
 "cells": [
  {
   "cell_type": "markdown",
   "metadata": {},
   "source": [
    "# Jupyter"
   ]
  },
  {
   "cell_type": "markdown",
   "metadata": {},
   "source": [
    "**Jupyter** представляет собой веб-интерфейс для исполнения кода в тетрадях \\ ноубуках (notebook). Документ jupyter notebook имеет расширение .ipynb и состоит из множества ячеек. В ячейках можно писать программный код, делать размеченные и неразмеченные заметки. Этим функциям соответствует три типа ячеек:\n",
    "    \n",
    "    1. code\n",
    "    2. markdown\n",
    "    3. raw"
   ]
  },
  {
   "cell_type": "markdown",
   "metadata": {},
   "source": [
    "Существуют 3 основных IDE для работы с юпитер ноутбуками:\n",
    "* [Jupyter Notebook](https://jupyter.org/)\n",
    "* [Jupyter Lab](https://towardsdatascience.com/jupyter-lab-evolution-of-the-jupyter-notebook-5297cacde6b)\n",
    "* [Google Colab](https://colab.research.google.com)\n",
    "\n",
    "Первые 2 - локальные среды разработки, которые нужно устанавливать на компьютер. \n",
    "\n",
    "Colab - облачная среда разработки. Код работает на гугловских серверах. \n",
    "\n",
    "У каждой есть свои плюсы и минусы. Пользоваться можно любой."
   ]
  },
  {
   "cell_type": "markdown",
   "metadata": {},
   "source": [
    "Для работы с содержимым ячейки используется *режим редактирования* (*Edit mode*, включается нажатием клавиши **Enter** после выбора ячейки), а для навигации между ячейками искользуется *командный режим* (*Command mode*, включается нажатием клавиши **Esc**). \n",
    "\n",
    "Тип ячейки можно задать в командном режиме либо с помощью горячих клавиш (**y** to code, **m** to markdown, **r** to edit raw text), либо в меню *Cell -> Cell type*. "
   ]
  },
  {
   "cell_type": "markdown",
   "metadata": {},
   "source": [
    "Кликните 2 раза по блоку, чтобы увидеть исходные данные ячейки."
   ]
  },
  {
   "cell_type": "markdown",
   "metadata": {},
   "source": [
    "## Сode"
   ]
  },
  {
   "cell_type": "markdown",
   "metadata": {
    "colab_type": "text",
    "id": "hptridF21BpO"
   },
   "source": [
    "Jupyter Notebook представляет интерактивный интерпретатор питона (обертка над IPython). \n",
    "\n",
    "Имеется глобальное пространство имен. Каждая ячейка с кодом может быть запущена с учетом обазначенных переменных в пространстве. \n",
    "\n",
    "Ячейки можно запускать в любой последовательности, но тогда нужно следить за тем, какая ячейка в каком порядке запускалась (цифра возле ячейки блока).\n",
    "\n",
    "Чтобы выполнить ячейку с кодом нужно нажать *Shift + Enter*. На экран выведется результат **последней** команды."
   ]
  },
  {
   "cell_type": "code",
   "execution_count": 9,
   "metadata": {
    "colab": {},
    "colab_type": "code",
    "id": "DWm1oimX21SB"
   },
   "outputs": [],
   "source": [
    "def frac(n):\n",
    "    return frac(n-1)*n if n > 1 else 1"
   ]
  },
  {
   "cell_type": "code",
   "execution_count": 8,
   "metadata": {
    "colab": {},
    "colab_type": "code",
    "id": "fy4kb0nQ3AiJ"
   },
   "outputs": [
    {
     "data": {
      "text/plain": [
       "120"
      ]
     },
     "execution_count": 8,
     "metadata": {},
     "output_type": "execute_result"
    }
   ],
   "source": [
    "frac_5 = frac(5)\n",
    "frac_5"
   ]
  },
  {
   "cell_type": "code",
   "execution_count": 3,
   "metadata": {
    "colab": {
     "base_uri": "https://localhost:8080/",
     "height": 34
    },
    "colab_type": "code",
    "id": "mSQDigPt3DGf",
    "outputId": "bbca3da5-fa7f-49d5-dca4-0cfd77aebae7"
   },
   "outputs": [
    {
     "data": {
      "text/plain": [
       "5040"
      ]
     },
     "execution_count": 3,
     "metadata": {},
     "output_type": "execute_result"
    }
   ],
   "source": [
    "# вывелось только второе значение\n",
    "frac(6)\n",
    "frac(7)"
   ]
  },
  {
   "cell_type": "code",
   "execution_count": 10,
   "metadata": {},
   "outputs": [
    {
     "name": "stdout",
     "output_type": "stream",
     "text": [
      "720\n"
     ]
    },
    {
     "data": {
      "text/plain": [
       "5040"
      ]
     },
     "execution_count": 10,
     "metadata": {},
     "output_type": "execute_result"
    }
   ],
   "source": [
    "print(frac(6))\n",
    "frac(7)"
   ]
  },
  {
   "cell_type": "markdown",
   "metadata": {},
   "source": [
    "Что-то более интересное, вставляем видео, через библиотеку"
   ]
  },
  {
   "cell_type": "code",
   "execution_count": 6,
   "metadata": {},
   "outputs": [
    {
     "data": {
      "text/html": [
       "<iframe width=\"560\" height=\"315\" src=\"https://www.youtube.com/embed/fiQTb7-rCPo?rel=0&amp;controls=0&amp;showinfo=0\" frameborder=\"0\" allowfullscreen></iframe>"
      ],
      "text/plain": [
       "<IPython.core.display.HTML object>"
      ]
     },
     "execution_count": 6,
     "metadata": {},
     "output_type": "execute_result"
    }
   ],
   "source": [
    "from IPython.display import HTML\n",
    "\n",
    "# Youtube\n",
    "HTML('<iframe width=\"560\" height=\"315\" src=\"https://www.youtube.com/embed/fiQTb7-rCPo?rel=0&amp;controls=0&amp;showinfo=0\" frameborder=\"0\" allowfullscreen></iframe>')\n"
   ]
  },
  {
   "cell_type": "markdown",
   "metadata": {},
   "source": [
    "Помимо кода, в блоке могут быть специфические для Jupyter вещи:"
   ]
  },
  {
   "cell_type": "markdown",
   "metadata": {},
   "source": [
    "### [Line magic](https://ipython.readthedocs.io/en/stable/interactive/magics.html) (`%magic` команды)"
   ]
  },
  {
   "cell_type": "code",
   "execution_count": 12,
   "metadata": {},
   "outputs": [
    {
     "name": "stdout",
     "output_type": "stream",
     "text": [
      "   5:\n",
      "from IPython.display import HTML\n",
      "\n",
      "# Youtube\n",
      "HTML('<iframe width=\"560\" height=\"315\" src=\"https://www.youtube.com/embed/-ZRUZzZPGto?rel=0&amp;controls=0&amp;showinfo=0\" frameborder=\"0\" allowfullscreen></iframe>')\n",
      "   6:\n",
      "from IPython.display import HTML\n",
      "\n",
      "# Youtube\n",
      "HTML('<iframe width=\"560\" height=\"315\" src=\"https://www.youtube.com/embed/fiQTb7-rCPo?rel=0&amp;controls=0&amp;showinfo=0\" frameborder=\"0\" allowfullscreen></iframe>')\n",
      "   7:\n",
      "def frac(n):\n",
      "    return frac(n-1)*n if n > 1 else 1\n",
      "   8:\n",
      "frac_5 = frac(5)\n",
      "frac_5\n"
     ]
    }
   ],
   "source": [
    "#напечатает историю выполнения кода\n",
    "%history -n 5-8"
   ]
  },
  {
   "cell_type": "markdown",
   "metadata": {},
   "source": [
    "### [Cell magic](https://ipython.readthedocs.io/en/stable/interactive/magics.html#cell-magics) (`%%magic` команды)"
   ]
  },
  {
   "cell_type": "code",
   "execution_count": 13,
   "metadata": {},
   "outputs": [
    {
     "name": "stdout",
     "output_type": "stream",
     "text": [
      "206 ms ± 7.27 ms per loop (mean ± std. dev. of 7 runs, 1 loop each)\n"
     ]
    }
   ],
   "source": [
    "%%timeit\n",
    "\n",
    "for _ in range(3000):\n",
    "    for _ in range(3000):\n",
    "        2 + 3 + 5 + 7"
   ]
  },
  {
   "cell_type": "markdown",
   "metadata": {},
   "source": [
    "### `!system` команды — вызовы к программам из командной строки (cmd, bash)"
   ]
  },
  {
   "cell_type": "code",
   "execution_count": 14,
   "metadata": {},
   "outputs": [
    {
     "name": "stdout",
     "output_type": "stream",
     "text": [
      "cmake version 3.13.4\n",
      "\n",
      "CMake suite maintained and supported by Kitware (kitware.com/cmake).\n"
     ]
    }
   ],
   "source": [
    "!cmake --version"
   ]
  },
  {
   "cell_type": "code",
   "execution_count": 15,
   "metadata": {},
   "outputs": [
    {
     "name": "stdout",
     "output_type": "stream",
     "text": [
      "printing from the shell\n"
     ]
    }
   ],
   "source": [
    "!echo \"printing from the shell\""
   ]
  },
  {
   "cell_type": "code",
   "execution_count": 17,
   "metadata": {},
   "outputs": [
    {
     "name": "stdout",
     "output_type": "stream",
     "text": [
      "\n",
      "Usage:   \n",
      "  pip <command> [options]\n",
      "\n",
      "no such option: -H\n"
     ]
    }
   ],
   "source": [
    "!pip -H install numpy"
   ]
  },
  {
   "cell_type": "markdown",
   "metadata": {},
   "source": [
    "## Markdown"
   ]
  },
  {
   "cell_type": "markdown",
   "metadata": {},
   "source": [
    "Markdown - упрощенное сочетание html и латеха вместе. \n",
    "Он позволяет:\n",
    "\n",
    "0. Составлять упорядоченные списки\n",
    "1. #Делать \n",
    "##заголовки \n",
    "###разного уровня\n",
    "3. Выделять *текст* <s>при</s> **необходимости**\n",
    "4. Добавлять [ссылки](http://imgs.xkcd.com/comics/the_universal_label.png)\n",
    "\n",
    "\n",
    "* Составлять неупорядоченные списки"
   ]
  },
  {
   "cell_type": "markdown",
   "metadata": {},
   "source": [
    "Страшные формулы ($\\LaTeX$):\n",
    "\n",
    "$\\newcommand{\\tilsigma}{\\tilde{\\sigma}}$\n",
    "\n",
    "$$f(x,y) = A \\exp\\left(- \\left(\\frac{(x-x_o)^2}{2\\tilsigma_X^2} + \\frac{(y-y_o)^2}{2\\tilsigma_Y^2} \\right)\\right)$$"
   ]
  },
  {
   "cell_type": "markdown",
   "metadata": {},
   "source": [
    "Можно также вставлять изображения, видео и прочее:\n",
    "\n",
    "<img src = \"https://thumbs.gfycat.com/SkeletalSaneIceblueredtopzebra-size_restricted.gif\">\n"
   ]
  },
  {
   "cell_type": "markdown",
   "metadata": {},
   "source": [
    "Можно вставлять сниппеты с кодом (без возможности выполнить):\n",
    "\n",
    "```python\n",
    "import pandas\n",
    "```"
   ]
  },
  {
   "cell_type": "markdown",
   "metadata": {},
   "source": [
    "## Raw"
   ]
  },
  {
   "cell_type": "raw",
   "metadata": {},
   "source": [
    "Я просто текст, ни разметка, ни латех, ни код. Никому я не нужен:("
   ]
  },
  {
   "cell_type": "markdown",
   "metadata": {},
   "source": [
    "## Полезные материалы\n",
    "\n",
    "* [Jupyter Markdown Manual](https://athena.brynmawr.edu/jupyter/hub/dblank/public/Jupyter%20Notebook%20Users%20Manual.ipynb) \n",
    "* [Особенности Jupyter на Хабре](https://habr.com/en/company/wunderfund/blog/316826/)\n",
    "* [IPython tutorial](https://ipython.readthedocs.io/en/stable/interactive/index.html)\n",
    "* [28 useful Jupyter Tips](https://www.dataquest.io/blog/jupyter-notebook-tips-tricks-shortcuts/)\n",
    "* [Markdown sintax](https://daringfireball.net/projects/markdown/syntax)"
   ]
  },
  {
   "cell_type": "markdown",
   "metadata": {},
   "source": [
    "## Источники материалов:\n",
    "* [mlcourse.ai](https://github.com/Yorko/mlcourse.ai) - курс Машинного обучения с OpenDataScience"
   ]
  }
 ],
 "metadata": {
  "kernelspec": {
   "display_name": "Python 3",
   "language": "python",
   "name": "python3"
  },
  "language_info": {
   "codemirror_mode": {
    "name": "ipython",
    "version": 3
   },
   "file_extension": ".py",
   "mimetype": "text/x-python",
   "name": "python",
   "nbconvert_exporter": "python",
   "pygments_lexer": "ipython3",
   "version": "3.7.3"
  }
 },
 "nbformat": 4,
 "nbformat_minor": 4
}
