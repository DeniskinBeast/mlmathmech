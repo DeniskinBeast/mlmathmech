{
 "cells": [
  {
   "cell_type": "markdown",
   "metadata": {},
   "source": [
    "# [Python](https://www.python.org/downloads)\n",
    "\n",
    "```В курсе будет использоваться только python3. Поэтому, если у вас стоит python2 поменяйте его на python3 по ссылке выше.```\n",
    "\n",
    "Рекомендую ознакомится с онлайн-курсами:\n",
    "* [Программирование на Python](https://stepik.org/course/67/syllabus) - база\n",
    "* [Основы Python](https://stepik.org/course/512/syllabus) - база но с классами и большим кол-вом тонкостей\n",
    "\n",
    "Или можете прочитать данный туториал\n",
    "\n",
    "Python является, пожалуй, самым популярным языком, особенно для начинающих. Он настолько прост, что обычно псевдокод один в один переписывается на него. \n",
    "\n",
    "Чтобы написать `Hello World` надо... `написать Hello World` :)"
   ]
  },
  {
   "cell_type": "code",
   "execution_count": 205,
   "metadata": {},
   "outputs": [
    {
     "name": "stdout",
     "output_type": "stream",
     "text": [
      "Hello World!\n"
     ]
    }
   ],
   "source": [
    "print('Hello World!')"
   ]
  },
  {
   "cell_type": "code",
   "execution_count": 109,
   "metadata": {},
   "outputs": [],
   "source": [
    "#Коммент"
   ]
  },
  {
   "cell_type": "markdown",
   "metadata": {},
   "source": [
    "## [Типы данных](https://tproger.ru/translations/python-data-types/)\n",
    "\n",
    "Мы рассмотрим следующие встроенные типы данных:\n",
    " - Числа: `(7382, 3.14, 3+4j, Decimal, Fraction)`\n",
    " - Строки: `('net', \"your's\", u'радость')`\n",
    " - Списки: `([1, [2, 'three'], 4])`\n",
    " - Словари: `({'Alex': 2, 'Brian': 4})`\n",
    " - Кортежи: `('Leo', 21.7, 'single')`\n",
    " - Множества: `(set(1,2,3), {'a', 'b', 'c'})`\n",
    " - Файлы: `(open('myfile', 'r'))`\n",
    " \n",
    "[**Динамическая типизация**](https://habr.com/en/post/161205/)\n",
    "\n",
    "Типы данных в языке Python определяются автоматически во время выполнения, а не в результате\n",
    "объявлений в программном коде. Переменные создаются при выполнении операции присваивания,\n",
    "могут ссылаться на объекты любых типов и им должны быть присвоены некоторые значения, прежде\n",
    "чем к ним можно будет обратиться.\n",
    "\n",
    "<img src=\"./img/link.png\" height=\"240\" width=\"860\">\n",
    "\n",
    " - Переменные – это записи в системной таблице, где предусмотрено место для хранения ссылок на\n",
    "объекты.\n",
    " - Объекты – это области памяти с объемом, достаточным для представления значений этих объектов.\n",
    "Каждый объект имеет два стандартных поля: описатель типа, используемый для хранения\n",
    "информации о типе объекта, и счетчик ссылок, используемый для определения момента, когда\n",
    "память, занимаемая объектом, может быть освобождена.\n",
    " - Ссылки – это указатели на объекты."
   ]
  },
  {
   "cell_type": "markdown",
   "metadata": {},
   "source": [
    "## Числа\n",
    "\n",
    "Числа в Python бывают разные:\n",
    " - Целые числа (`int`): `122`, `-4`, `99999999999`, `0o177`, `0x9ff`, `0b101010`\n",
    " - Вещественные (действительные) числа (`float`): `1.0`, `3.14`, `.5`, `4E21`, `4.0e21` \n",
    " - Комплексные числа (`complex`): `3 + 4j`, `3.0 + 4.0j`,  \n",
    " - Числа фиксированной точности: `decimal.Decimal('0.1')`\n",
    " - Рациональные числа: `fractions.Fraction(3, 4)`\n",
    " \n",
    "### Операции с целыми и вещественными числами\n",
    "\n",
    "<img src=\"./img/operations.png\" height=\"1201\" width=\"681\">"
   ]
  },
  {
   "cell_type": "markdown",
   "metadata": {},
   "source": [
    "### Целые числа"
   ]
  },
  {
   "cell_type": "code",
   "execution_count": 7,
   "metadata": {},
   "outputs": [
    {
     "name": "stdout",
     "output_type": "stream",
     "text": [
      "Сумма: 5\n",
      "Разность: 1\n",
      "Произведение: 6\n",
      "Деление: 1.5\n",
      "Возведение в степень 9\n"
     ]
    }
   ],
   "source": [
    "print('Сумма:', 3 + 2)\n",
    "print('Разность:', 3 - 2)\n",
    "print('Произведение:', 3 * 2)\n",
    "print('Деление:', 3 / 2)\n",
    "print('Возведение в степень', 3 ** 2)"
   ]
  },
  {
   "cell_type": "code",
   "execution_count": 11,
   "metadata": {},
   "outputs": [
    {
     "name": "stdout",
     "output_type": "stream",
     "text": [
      "Без скобок: 14\n",
      "Со скобками: 20\n"
     ]
    }
   ],
   "source": [
    "# Можно использовать скобки для управления порядком операций\n",
    "standard_order = 2 + 3 * 4\n",
    "print('Без скобок:', standard_order)\n",
    "my_order = (2 + 3) * 4\n",
    "print('Со скобками:', my_order)"
   ]
  },
  {
   "cell_type": "markdown",
   "metadata": {},
   "source": [
    "### Вещественные числа"
   ]
  },
  {
   "cell_type": "code",
   "execution_count": 9,
   "metadata": {},
   "outputs": [
    {
     "data": {
      "text/plain": [
       "0.2"
      ]
     },
     "execution_count": 9,
     "metadata": {},
     "output_type": "execute_result"
    }
   ],
   "source": [
    ".1 + .1"
   ]
  },
  {
   "cell_type": "code",
   "execution_count": 10,
   "metadata": {},
   "outputs": [
    {
     "data": {
      "text/plain": [
       "1.5"
      ]
     },
     "execution_count": 10,
     "metadata": {},
     "output_type": "execute_result"
    }
   ],
   "source": [
    "3 / 2"
   ]
  },
  {
   "cell_type": "markdown",
   "metadata": {},
   "source": [
    "Но стоит помнить, что число бит на float(мантисса) ограничено "
   ]
  },
  {
   "cell_type": "code",
   "execution_count": 46,
   "metadata": {},
   "outputs": [
    {
     "data": {
      "text/plain": [
       "0.0"
      ]
     },
     "execution_count": 46,
     "metadata": {},
     "output_type": "execute_result"
    }
   ],
   "source": [
    "3**(-700)"
   ]
  },
  {
   "cell_type": "markdown",
   "metadata": {},
   "source": [
    "И дробные числа не всегда представимы в двоичном виде ¯\\\\_(ツ)_/¯"
   ]
  },
  {
   "cell_type": "code",
   "execution_count": 75,
   "metadata": {},
   "outputs": [
    {
     "data": {
      "text/plain": [
       "7.3999999999999995"
      ]
     },
     "execution_count": 75,
     "metadata": {},
     "output_type": "execute_result"
    }
   ],
   "source": [
    "3.3 + 4.1"
   ]
  },
  {
   "cell_type": "markdown",
   "metadata": {},
   "source": [
    "### Класс [Decimal](https://pyprog.pro/python/st_lib/decimal.html) для `хороших` вещественных чисел"
   ]
  },
  {
   "cell_type": "code",
   "execution_count": 48,
   "metadata": {},
   "outputs": [],
   "source": [
    "from decimal import Decimal"
   ]
  },
  {
   "cell_type": "markdown",
   "metadata": {},
   "source": [
    "В нем мы можем решить как первую проблему с большими числами"
   ]
  },
  {
   "cell_type": "code",
   "execution_count": 62,
   "metadata": {},
   "outputs": [
    {
     "data": {
      "text/plain": [
       "Decimal('7.563891323104099804757449897E-478')"
      ]
     },
     "execution_count": 62,
     "metadata": {},
     "output_type": "execute_result"
    }
   ],
   "source": [
    "Decimal('3')**(-1000)"
   ]
  },
  {
   "cell_type": "markdown",
   "metadata": {},
   "source": [
    "Так и вторую"
   ]
  },
  {
   "cell_type": "code",
   "execution_count": 77,
   "metadata": {},
   "outputs": [
    {
     "data": {
      "text/plain": [
       "Decimal('7.4')"
      ]
     },
     "execution_count": 77,
     "metadata": {},
     "output_type": "execute_result"
    }
   ],
   "source": [
    "Decimal('3.3') + Decimal('4.1')"
   ]
  },
  {
   "cell_type": "markdown",
   "metadata": {},
   "source": [
    "### Класс [Fractions](https://pythonworld.ru/moduli/modul-fractions.html) для представления целых дробей"
   ]
  },
  {
   "cell_type": "code",
   "execution_count": 14,
   "metadata": {},
   "outputs": [
    {
     "data": {
      "text/plain": [
       "Fraction(1, 11)"
      ]
     },
     "execution_count": 14,
     "metadata": {},
     "output_type": "execute_result"
    }
   ],
   "source": [
    "from fractions import Fraction, gcd\n",
    "\n",
    "Fraction(7, 77)"
   ]
  },
  {
   "cell_type": "markdown",
   "metadata": {},
   "source": [
    "Внутри Fractions реализован gcd и автоматически вызывается для сокращения дроби."
   ]
  },
  {
   "cell_type": "markdown",
   "metadata": {},
   "source": [
    "### Встроенная длинная арифметика\n",
    "Обычно в языках программирования размер целых чисел ограничен 64 битами и чтобы производить операции с **очень** большими числами приходится пользоваться внешними библиотеками или реализовывать собственную длинную арифметику. В Python этого делать не нужно."
   ]
  },
  {
   "cell_type": "code",
   "execution_count": 29,
   "metadata": {},
   "outputs": [
    {
     "data": {
      "text/plain": [
       "37023098644546262445192506051952921316308258190365253257799650"
      ]
     },
     "execution_count": 29,
     "metadata": {},
     "output_type": "execute_result"
    }
   ],
   "source": [
    "93847590834759083745209837452098374 * 394502387490523847530928475"
   ]
  },
  {
   "cell_type": "markdown",
   "metadata": {},
   "source": [
    "Но работая с ней нужно быть аккуратным с некоторыми операциями, в которых происходит неявный каст к типу `float`"
   ]
  },
  {
   "cell_type": "code",
   "execution_count": 25,
   "metadata": {},
   "outputs": [
    {
     "name": "stdout",
     "output_type": "stream",
     "text": [
      "4999999999999999817948147482624\n",
      "5000000000000000000000000000001\n"
     ]
    }
   ],
   "source": [
    "print(int(10000000000000000000000000000002 / 2))\n",
    "print(int(10000000000000000000000000000002 // 2))"
   ]
  },
  {
   "cell_type": "markdown",
   "metadata": {},
   "source": [
    "## Строки"
   ]
  },
  {
   "cell_type": "code",
   "execution_count": 78,
   "metadata": {},
   "outputs": [],
   "source": [
    "# Строки можно объявить двойными или одинарными кавычками\n",
    "my_string = \"This is a double-quoted string.\"\n",
    "my_string = 'This is a single-quoted string.'"
   ]
  },
  {
   "cell_type": "code",
   "execution_count": 79,
   "metadata": {},
   "outputs": [],
   "source": [
    "# Внутри двойных разрешается использовать одинарные, и наоборот\n",
    "quote = \"Linus Torvalds once said, 'Any program is only as good as it is useful.'\""
   ]
  },
  {
   "cell_type": "code",
   "execution_count": 80,
   "metadata": {},
   "outputs": [
    {
     "name": "stdout",
     "output_type": "stream",
     "text": [
      "SVEN sven Sven\n"
     ]
    }
   ],
   "source": [
    "name = 'Sven'\n",
    "print(name.upper(), name.lower(), name.title())"
   ]
  },
  {
   "cell_type": "markdown",
   "metadata": {},
   "source": [
    "`upper()`, `lower()` и `title()` - это методы. \n",
    "\n",
    "Синтаксис:\n",
    "```python\n",
    "variable_name.action()\n",
    "```\n",
    "\n",
    "`action` - это название метода, который можно применить к переменной `variable_name`. В скобках можно указывать другие переменные (аргументы) метода. "
   ]
  },
  {
   "cell_type": "code",
   "execution_count": 81,
   "metadata": {},
   "outputs": [
    {
     "name": "stdout",
     "output_type": "stream",
     "text": [
      "Help on built-in function find:\n",
      "\n",
      "find(...) method of builtins.str instance\n",
      "    S.find(sub[, start[, end]]) -> int\n",
      "    \n",
      "    Return the lowest index in S where substring sub is found,\n",
      "    such that sub is contained within S[start:end].  Optional\n",
      "    arguments start and end are interpreted as in slice notation.\n",
      "    \n",
      "    Return -1 on failure.\n",
      "\n"
     ]
    }
   ],
   "source": [
    "help(''.find) # help — вызов помощи"
   ]
  },
  {
   "cell_type": "markdown",
   "metadata": {},
   "source": [
    "#### Конкатенация (\"склеивание\") строк"
   ]
  },
  {
   "cell_type": "code",
   "execution_count": 83,
   "metadata": {},
   "outputs": [
    {
     "name": "stdout",
     "output_type": "stream",
     "text": [
      "Ada Lovelace\n"
     ]
    }
   ],
   "source": [
    "first_name = 'ada'\n",
    "last_name = 'lovelace'\n",
    "\n",
    "full_name = first_name + ' ' + last_name\n",
    "# 'a' + 'b' != 'b' + 'a' — конкатенация некоммутативна\n",
    "\n",
    "print(full_name.title())"
   ]
  },
  {
   "cell_type": "code",
   "execution_count": 84,
   "metadata": {},
   "outputs": [
    {
     "name": "stdout",
     "output_type": "stream",
     "text": [
      "Hello\n",
      "world\n"
     ]
    }
   ],
   "source": [
    "print('Hello\\nworld') # \\n — символ переноса строки"
   ]
  },
  {
   "cell_type": "code",
   "execution_count": 85,
   "metadata": {},
   "outputs": [
    {
     "data": {
      "text/plain": [
       "'eric'"
      ]
     },
     "execution_count": 85,
     "metadata": {},
     "output_type": "execute_result"
    }
   ],
   "source": [
    "name = ' eric    '\n",
    "name.strip() #убираем пробелы с начала и края строки"
   ]
  },
  {
   "cell_type": "code",
   "execution_count": 86,
   "metadata": {},
   "outputs": [
    {
     "data": {
      "text/plain": [
       "'we bought a new building'"
      ]
     },
     "execution_count": 86,
     "metadata": {},
     "output_type": "execute_result"
    }
   ],
   "source": [
    "\"we bought a new house\".replace(\"house\", \"building\")"
   ]
  },
  {
   "cell_type": "code",
   "execution_count": 87,
   "metadata": {},
   "outputs": [
    {
     "data": {
      "text/plain": [
       "'We welcome our new AI overlords'"
      ]
     },
     "execution_count": 87,
     "metadata": {},
     "output_type": "execute_result"
    }
   ],
   "source": [
    "' '.join(['We', 'welcome', 'our', 'new', 'AI', 'overlords'])"
   ]
  },
  {
   "cell_type": "code",
   "execution_count": 88,
   "metadata": {},
   "outputs": [
    {
     "data": {
      "text/plain": [
       "['there', 'was', 'a', 'fish', 'in', 'a', 'percolator']"
      ]
     },
     "execution_count": 88,
     "metadata": {},
     "output_type": "execute_result"
    }
   ],
   "source": [
    "'there was a fish in a percolator'.split(' ')"
   ]
  },
  {
   "cell_type": "code",
   "execution_count": 102,
   "metadata": {},
   "outputs": [
    {
     "data": {
      "text/plain": [
       "'there is no spoon'"
      ]
     },
     "execution_count": 102,
     "metadata": {},
     "output_type": "execute_result"
    }
   ],
   "source": [
    "'there is no {}'.format('spoon') #форматирование"
   ]
  },
  {
   "cell_type": "code",
   "execution_count": 94,
   "metadata": {},
   "outputs": [
    {
     "data": {
      "text/plain": [
       "'where there is smoke, there is fire'"
      ]
     },
     "execution_count": 94,
     "metadata": {},
     "output_type": "execute_result"
    }
   ],
   "source": [
    "'where there is {1}, there is {0}'.format('fire', 'smoke')"
   ]
  },
  {
   "cell_type": "markdown",
   "metadata": {},
   "source": [
    "## Переменные типа Bool. Условный оператор"
   ]
  },
  {
   "cell_type": "code",
   "execution_count": 96,
   "metadata": {},
   "outputs": [
    {
     "data": {
      "text/plain": [
       "True"
      ]
     },
     "execution_count": 96,
     "metadata": {},
     "output_type": "execute_result"
    }
   ],
   "source": [
    "True != False"
   ]
  },
  {
   "cell_type": "code",
   "execution_count": 97,
   "metadata": {},
   "outputs": [
    {
     "data": {
      "text/plain": [
       "(False, True, True)"
      ]
     },
     "execution_count": 97,
     "metadata": {},
     "output_type": "execute_result"
    }
   ],
   "source": [
    "True and False, not False, True or False # Булева арифметика"
   ]
  },
  {
   "cell_type": "code",
   "execution_count": 98,
   "metadata": {},
   "outputs": [
    {
     "name": "stdout",
     "output_type": "stream",
     "text": [
      "Type: <class 'bool'>, value: False\n"
     ]
    }
   ],
   "source": [
    "a, b = 5, 6\n",
    "a_greater_b = a > b\n",
    "\n",
    "print('Type: {}, value: {}'.format(type(a_greater_b), a_greater_b))"
   ]
  },
  {
   "cell_type": "code",
   "execution_count": 100,
   "metadata": {},
   "outputs": [
    {
     "data": {
      "text/plain": [
       "(True, False)"
      ]
     },
     "execution_count": 100,
     "metadata": {},
     "output_type": "execute_result"
    }
   ],
   "source": [
    "# В Python есть приведение типов, числа приводятся к True если не равны нулю\n",
    "bool(-42), bool(0)"
   ]
  },
  {
   "cell_type": "markdown",
   "metadata": {},
   "source": [
    "### Условия"
   ]
  },
  {
   "cell_type": "code",
   "execution_count": 103,
   "metadata": {},
   "outputs": [
    {
     "name": "stdout",
     "output_type": "stream",
     "text": [
      "almost there\n"
     ]
    }
   ],
   "source": [
    "items = ['lock', 'stock', 'two smoking barrels']\n",
    "\n",
    "if 'lock' in items: #оператор проверяющий наличие элемента в коллекции(list, set, etc.)\n",
    "    print('almost there')\n",
    "elif not bool('nevertheless'): # bool(a) == False <=> a == ''\n",
    "    print('memes 2017')\n",
    "else:\n",
    "    print('sad face :(')"
   ]
  },
  {
   "cell_type": "code",
   "execution_count": 104,
   "metadata": {},
   "outputs": [],
   "source": [
    "_ = '''\n",
    "Индентация в Python (отступы) обязательна. Ниже эквивалентный код на Python и C++.\n",
    "\n",
    "# Python:\n",
    "if a > b:\n",
    "    print(c)\n",
    "    \n",
    "// C++\n",
    "if (a > b) {\n",
    "    printf(c);\n",
    "}\n",
    "'''"
   ]
  },
  {
   "cell_type": "code",
   "execution_count": 106,
   "metadata": {},
   "outputs": [
    {
     "name": "stdout",
     "output_type": "stream",
     "text": [
      "one\n"
     ]
    }
   ],
   "source": [
    "# Тернарный оператор\n",
    "from random import randint #рандом :)\n",
    "\n",
    "print('zero' if randint(0, 1) % 2 == 0 else 'one')"
   ]
  },
  {
   "cell_type": "code",
   "execution_count": 108,
   "metadata": {},
   "outputs": [
    {
     "data": {
      "text/plain": [
       "(True, None, True, True)"
      ]
     },
     "execution_count": 108,
     "metadata": {},
     "output_type": "execute_result"
    }
   ],
   "source": [
    "# Оператор None\n",
    "True or None, True and None, not None, None is None"
   ]
  },
  {
   "cell_type": "markdown",
   "metadata": {},
   "source": [
    "## Циклы\n",
    "\n",
    "<img src=\"./img/while_cycle.png\" height=\"240\" width=\"860\">"
   ]
  },
  {
   "cell_type": "markdown",
   "metadata": {},
   "source": [
    "#### Цикл `while`"
   ]
  },
  {
   "cell_type": "code",
   "execution_count": 126,
   "metadata": {},
   "outputs": [
    {
     "name": "stdout",
     "output_type": "stream",
     "text": [
      "31 iterations before 42 is randomly chosen\n"
     ]
    }
   ],
   "source": [
    "import random\n",
    "\n",
    "iterations = 0\n",
    "while random.randint(0, 100) != 42:\n",
    "    iterations += 1\n",
    "    \n",
    "print('{} iterations before 42 is randomly chosen'.format(iterations))"
   ]
  },
  {
   "cell_type": "markdown",
   "metadata": {},
   "source": [
    "#### Цикл `for`"
   ]
  },
  {
   "cell_type": "code",
   "execution_count": 127,
   "metadata": {},
   "outputs": [
    {
     "name": "stdout",
     "output_type": "stream",
     "text": [
      "1\n",
      "4\n",
      "7\n"
     ]
    }
   ],
   "source": [
    "for i in range(1, 10, 3): # Целые числа из [1, 10) с шагом 3\n",
    "    print(i)"
   ]
  },
  {
   "cell_type": "markdown",
   "metadata": {},
   "source": [
    "#### Итерация по списку: (подробнее позже)"
   ]
  },
  {
   "cell_type": "code",
   "execution_count": 128,
   "metadata": {},
   "outputs": [
    {
     "name": "stdout",
     "output_type": "stream",
     "text": [
      "not today\n",
      "not today\n",
      "yummy\n"
     ]
    }
   ],
   "source": [
    "for x in ['spam', 'eggs', 'ham']:\n",
    "    if x == 'ham':\n",
    "        print('yummy')\n",
    "    else:\n",
    "        print('not today')"
   ]
  },
  {
   "cell_type": "code",
   "execution_count": 129,
   "metadata": {},
   "outputs": [
    {
     "name": "stdout",
     "output_type": "stream",
     "text": [
      "21\n"
     ]
    }
   ],
   "source": [
    "# Строка — тот же список из символов\n",
    "for i, c in enumerate('a very frequently encountered string'):\n",
    "    if c == 'o':\n",
    "        print(i)"
   ]
  },
  {
   "cell_type": "markdown",
   "metadata": {},
   "source": [
    "## Кратко о структурах данных"
   ]
  },
  {
   "cell_type": "markdown",
   "metadata": {},
   "source": [
    "### Список"
   ]
  },
  {
   "cell_type": "code",
   "execution_count": 130,
   "metadata": {},
   "outputs": [
    {
     "data": {
      "text/plain": [
       "[1, 2, 3, 'питон']"
      ]
     },
     "execution_count": 130,
     "metadata": {},
     "output_type": "execute_result"
    }
   ],
   "source": [
    "[1, 2, 3, 'питон'] # Список"
   ]
  },
  {
   "cell_type": "code",
   "execution_count": 134,
   "metadata": {},
   "outputs": [
    {
     "name": "stdout",
     "output_type": "stream",
     "text": [
      "[1, 4, 2, 3, 2, 0, 5, 32]\n"
     ]
    }
   ],
   "source": [
    "numbers_list = [1, 4, 2, 3, 2, 0, 5, 32]\n",
    "print(numbers_list)"
   ]
  },
  {
   "cell_type": "code",
   "execution_count": 135,
   "metadata": {},
   "outputs": [
    {
     "name": "stdout",
     "output_type": "stream",
     "text": [
      "Sorted: [0, 1, 2, 2, 3, 4, 5, 32]\n"
     ]
    }
   ],
   "source": [
    "numbers_list.sort() # сортировка меняет исходный список\n",
    "print(\"Sorted:\", numbers_list)"
   ]
  },
  {
   "cell_type": "code",
   "execution_count": 136,
   "metadata": {},
   "outputs": [
    {
     "name": "stdout",
     "output_type": "stream",
     "text": [
      "Appended: [0, 1, 2, 2, 3, 4, 5, 32, 322]\n"
     ]
    }
   ],
   "source": [
    "numbers_list.append(322) # добавление в список\n",
    "print(\"Appended:\", numbers_list)"
   ]
  },
  {
   "cell_type": "markdown",
   "metadata": {},
   "source": [
    "Списки сравниваются по-элементо"
   ]
  },
  {
   "cell_type": "code",
   "execution_count": 142,
   "metadata": {},
   "outputs": [
    {
     "data": {
      "text/plain": [
       "True"
      ]
     },
     "execution_count": 142,
     "metadata": {},
     "output_type": "execute_result"
    }
   ],
   "source": [
    "a = [2,3]\n",
    "b = [2,3]\n",
    "a==b "
   ]
  },
  {
   "cell_type": "markdown",
   "metadata": {},
   "source": [
    "### Set"
   ]
  },
  {
   "cell_type": "code",
   "execution_count": 41,
   "metadata": {},
   "outputs": [
    {
     "data": {
      "text/plain": [
       "{4, 5, 6}"
      ]
     },
     "execution_count": 41,
     "metadata": {},
     "output_type": "execute_result"
    }
   ],
   "source": [
    "set([4, 5, 6, 6, 5, 4]) # Множество — список уникальных элементов"
   ]
  },
  {
   "cell_type": "markdown",
   "metadata": {},
   "source": [
    "### Tuple"
   ]
  },
  {
   "cell_type": "code",
   "execution_count": 42,
   "metadata": {},
   "outputs": [
    {
     "data": {
      "text/plain": [
       "(7, 8)"
      ]
     },
     "execution_count": 42,
     "metadata": {},
     "output_type": "execute_result"
    }
   ],
   "source": [
    "(7, 8) # Кортеж — неизменяемый список фиксированной длины"
   ]
  },
  {
   "cell_type": "code",
   "execution_count": 43,
   "metadata": {},
   "outputs": [
    {
     "name": "stdout",
     "output_type": "stream",
     "text": [
      "4 5 6\n"
     ]
    }
   ],
   "source": [
    "x, y, z = (4, 5, 6) # pattern matching\n",
    "print(x, y, z)"
   ]
  },
  {
   "cell_type": "markdown",
   "metadata": {},
   "source": [
    "### Dict"
   ]
  },
  {
   "cell_type": "code",
   "execution_count": 44,
   "metadata": {},
   "outputs": [
    {
     "name": "stdout",
     "output_type": "stream",
     "text": [
      "{9: 'девять', 10: 'много'}\n"
     ]
    },
    {
     "data": {
      "text/plain": [
       "'много'"
      ]
     },
     "execution_count": 44,
     "metadata": {},
     "output_type": "execute_result"
    }
   ],
   "source": [
    "big_numbers = dict([(9, 'девять'), (10, 'много')]) # Словарь\n",
    "print(big_numbers)\n",
    "big_numbers[10]"
   ]
  },
  {
   "cell_type": "markdown",
   "metadata": {},
   "source": [
    "### Comprehensions"
   ]
  },
  {
   "cell_type": "code",
   "execution_count": 146,
   "metadata": {},
   "outputs": [
    {
     "name": "stdout",
     "output_type": "stream",
     "text": [
      "[1, 9, 25]\n"
     ]
    }
   ],
   "source": [
    "odd_squares = [number ** 2 for number in numbers_list if number % 2 == 1]\n",
    "print(odd_squares) # Списочные выражения (list comprehensions)"
   ]
  },
  {
   "cell_type": "code",
   "execution_count": 145,
   "metadata": {},
   "outputs": [
    {
     "data": {
      "text/plain": [
       "'0x10, 0x12, 0x14, 0x16, 0x18, 0x1a, 0x1c, 0x1e'"
      ]
     },
     "execution_count": 145,
     "metadata": {},
     "output_type": "execute_result"
    }
   ],
   "source": [
    "', '.join([hex(number) for number in range(16, 32) if number % 2 == 0])"
   ]
  },
  {
   "cell_type": "code",
   "execution_count": 144,
   "metadata": {},
   "outputs": [
    {
     "name": "stdout",
     "output_type": "stream",
     "text": [
      "{0: '0o0', 1: '0o1', 2: '0o2', 3: '0o3', 4: '0o4', 5: '0o5', 6: '0o6', 7: '0o7', 8: '0o10', 9: '0o11'}\n",
      "5 -> 0o5\n"
     ]
    }
   ],
   "source": [
    "octal_numbers = {i: oct(i) for i in range(10)} # Словарные выражения (dict comprehensions)\n",
    "print(octal_numbers)\n",
    "print(5, '->', octal_numbers[5])"
   ]
  },
  {
   "cell_type": "markdown",
   "metadata": {},
   "source": [
    "## [Функции](https://python-scripts.com/functions-python)"
   ]
  },
  {
   "cell_type": "code",
   "execution_count": 147,
   "metadata": {},
   "outputs": [
    {
     "data": {
      "text/plain": [
       "True"
      ]
     },
     "execution_count": 147,
     "metadata": {},
     "output_type": "execute_result"
    }
   ],
   "source": [
    "def get_something(a, b, c=5):\n",
    "    return a + b + c\n",
    "\n",
    "get_something(10, 20) == 35"
   ]
  },
  {
   "cell_type": "code",
   "execution_count": 148,
   "metadata": {},
   "outputs": [
    {
     "data": {
      "text/plain": [
       "True"
      ]
     },
     "execution_count": 148,
     "metadata": {},
     "output_type": "execute_result"
    }
   ],
   "source": [
    "def do_something(a, b): # по умолчанию функция возвращает None\n",
    "    pass\n",
    "\n",
    "do_something(1, 2) == None"
   ]
  },
  {
   "cell_type": "markdown",
   "metadata": {},
   "source": [
    "Числа передаются по значению, структуры и сложные объекты - передаются по **ссылке**"
   ]
  },
  {
   "cell_type": "code",
   "execution_count": 152,
   "metadata": {},
   "outputs": [
    {
     "name": "stdout",
     "output_type": "stream",
     "text": [
      "2 [1, 2, 1]\n"
     ]
    }
   ],
   "source": [
    "def bad(a, b):\n",
    "    b.append(1)\n",
    "    a += 1\n",
    "\n",
    "a = 2\n",
    "b = [1, 2]\n",
    "bad(a,b)\n",
    "print(a, b)"
   ]
  },
  {
   "cell_type": "markdown",
   "metadata": {},
   "source": [
    "Хорошим тоном будет указывать типы в функциях"
   ]
  },
  {
   "cell_type": "code",
   "execution_count": 157,
   "metadata": {},
   "outputs": [
    {
     "data": {
      "text/plain": [
       "{2: 'abracadabra'}"
      ]
     },
     "execution_count": 157,
     "metadata": {},
     "output_type": "execute_result"
    }
   ],
   "source": [
    "def good(a:int, b:str) -> dict:\n",
    "    return {a: b}\n",
    "\n",
    "a = 2\n",
    "b = 'abracadabra'\n",
    "good(a, b)"
   ]
  },
  {
   "cell_type": "markdown",
   "metadata": {},
   "source": [
    "Но это лишь синтаксический сахар и ничего более"
   ]
  },
  {
   "cell_type": "code",
   "execution_count": 158,
   "metadata": {},
   "outputs": [
    {
     "data": {
      "text/plain": [
       "{'abracadabra': 2}"
      ]
     },
     "execution_count": 158,
     "metadata": {},
     "output_type": "execute_result"
    }
   ],
   "source": [
    "good(b,a)"
   ]
  },
  {
   "cell_type": "markdown",
   "metadata": {},
   "source": [
    "### Безымянные функции"
   ]
  },
  {
   "cell_type": "code",
   "execution_count": 160,
   "metadata": {},
   "outputs": [],
   "source": [
    "f = lambda x: x**2"
   ]
  },
  {
   "cell_type": "code",
   "execution_count": 161,
   "metadata": {},
   "outputs": [
    {
     "data": {
      "text/plain": [
       "4"
      ]
     },
     "execution_count": 161,
     "metadata": {},
     "output_type": "execute_result"
    }
   ],
   "source": [
    "f(2)"
   ]
  },
  {
   "cell_type": "markdown",
   "metadata": {},
   "source": [
    "### [Полезные встроенные функции](https://tproger.ru/translations/python-built-ins-worth-learning/)"
   ]
  },
  {
   "cell_type": "code",
   "execution_count": 163,
   "metadata": {},
   "outputs": [
    {
     "name": "stdin",
     "output_type": "stream",
     "text": [
      " hi\n"
     ]
    },
    {
     "data": {
      "text/plain": [
       "'hi'"
      ]
     },
     "execution_count": 163,
     "metadata": {},
     "output_type": "execute_result"
    }
   ],
   "source": [
    "a = input() #входной поток данных, всегда тип str\n",
    "a"
   ]
  },
  {
   "cell_type": "code",
   "execution_count": 167,
   "metadata": {},
   "outputs": [
    {
     "name": "stdin",
     "output_type": "stream",
     "text": [
      " 1 2 3 4 5\n"
     ]
    },
    {
     "data": {
      "text/plain": [
       "[1, 2, 3, 4, 5]"
      ]
     },
     "execution_count": 167,
     "metadata": {},
     "output_type": "execute_result"
    }
   ],
   "source": [
    "f = int #функция тоже объект\n",
    "map_ob = map(f, input().split()) #map применяет к каждому объекту листа функцию f и возвращает map-объект\n",
    "list(map_ob) #каст к листу"
   ]
  },
  {
   "cell_type": "code",
   "execution_count": 174,
   "metadata": {},
   "outputs": [
    {
     "name": "stdout",
     "output_type": "stream",
     "text": [
      "0 goldfish\n",
      "1 cat\n",
      "2 dog\n",
      "3 hamster\n"
     ]
    }
   ],
   "source": [
    "words = ['goldfish', 'cat', 'dog', 'hamster']\n",
    "for i, word in enumerate(words): #перечисление\n",
    "    print(i, word)"
   ]
  },
  {
   "cell_type": "code",
   "execution_count": 178,
   "metadata": {},
   "outputs": [
    {
     "data": {
      "text/plain": [
       "10"
      ]
     },
     "execution_count": 178,
     "metadata": {},
     "output_type": "execute_result"
    }
   ],
   "source": [
    "sum([0,1,2,3,4])"
   ]
  },
  {
   "cell_type": "code",
   "execution_count": 179,
   "metadata": {},
   "outputs": [
    {
     "data": {
      "text/plain": [
       "10"
      ]
     },
     "execution_count": 179,
     "metadata": {},
     "output_type": "execute_result"
    }
   ],
   "source": [
    "sum([i for i in range(5)])"
   ]
  },
  {
   "cell_type": "code",
   "execution_count": 177,
   "metadata": {},
   "outputs": [
    {
     "data": {
      "text/plain": [
       "10"
      ]
     },
     "execution_count": 177,
     "metadata": {},
     "output_type": "execute_result"
    }
   ],
   "source": [
    "sum(range(5))"
   ]
  },
  {
   "cell_type": "markdown",
   "metadata": {},
   "source": [
    "## Файлы"
   ]
  },
  {
   "cell_type": "markdown",
   "metadata": {},
   "source": [
    "Конструкция `with` автоматически закрывает файл после выхода из нее. \n",
    "Чтобы не забывать закрывать файлы рекомендуется всегда ее использовать."
   ]
  },
  {
   "cell_type": "code",
   "execution_count": 184,
   "metadata": {},
   "outputs": [
    {
     "name": "stdout",
     "output_type": "stream",
     "text": [
      "blablabla\n"
     ]
    }
   ],
   "source": [
    "with open('temp.txt', 'w') as f: #'w' - разрешение на запись в файл\n",
    "    f.write('blablabla')\n",
    "\n",
    "with open('temp.txt', 'r') as f:#'rw' - разрешение на чтение('r') из файла\n",
    "    data = f.read()\n",
    "\n",
    "print(data)"
   ]
  },
  {
   "cell_type": "markdown",
   "metadata": {},
   "source": [
    "## [Модули](https://pythonworld.ru/moduli)"
   ]
  },
  {
   "cell_type": "code",
   "execution_count": 202,
   "metadata": {},
   "outputs": [
    {
     "data": {
      "text/plain": [
       "-1.0"
      ]
     },
     "execution_count": 202,
     "metadata": {},
     "output_type": "execute_result"
    }
   ],
   "source": [
    "import math\n",
    "\n",
    "math.cos(math.pi)"
   ]
  },
  {
   "cell_type": "code",
   "execution_count": 201,
   "metadata": {},
   "outputs": [
    {
     "data": {
      "text/plain": [
       "Counter({'a': 5, 'b': 2, 'r': 2, 'c': 1, 'd': 1})"
      ]
     },
     "execution_count": 201,
     "metadata": {},
     "output_type": "execute_result"
    }
   ],
   "source": [
    "from collections import Counter\n",
    "\n",
    "Counter('abracadabra') # принимает список, возвращает частотный словарь"
   ]
  },
  {
   "cell_type": "markdown",
   "metadata": {},
   "source": [
    "## [Классы](https://pythonru.com/primery/primery-raboty-s-klassami-v-python)"
   ]
  },
  {
   "cell_type": "code",
   "execution_count": 204,
   "metadata": {},
   "outputs": [],
   "source": [
    "import math\n",
    "class Circle(object): # в скобочках указывается объект от которого наследуется класс\n",
    "    \n",
    "    def __init__(self, rad: int): #инициализация\n",
    "        \"\"\"Constructor\"\"\"\n",
    "        self.rad = rad\n",
    "    \n",
    "    def area(self):\n",
    "        \"\"\"\n",
    "        Calculate Area of Circle\n",
    "        \"\"\"\n",
    "        return math.pi * self.rad**2"
   ]
  },
  {
   "cell_type": "code",
   "execution_count": 186,
   "metadata": {},
   "outputs": [
    {
     "data": {
      "text/plain": [
       "<__main__.Circle at 0x7f80bbf7be10>"
      ]
     },
     "execution_count": 186,
     "metadata": {},
     "output_type": "execute_result"
    }
   ],
   "source": [
    "Circle(12)"
   ]
  },
  {
   "cell_type": "code",
   "execution_count": 188,
   "metadata": {},
   "outputs": [
    {
     "data": {
      "text/plain": [
       "452.3893421169302"
      ]
     },
     "execution_count": 188,
     "metadata": {},
     "output_type": "execute_result"
    }
   ],
   "source": [
    "c = Circle(12)\n",
    "c.area()"
   ]
  },
  {
   "cell_type": "markdown",
   "metadata": {},
   "source": [
    "## Источники\n",
    "* [PythonTutor](http://pythontutor.ru/) - лучший ресурс для изучения питона с нуля\n",
    "* [Семинары по МЛ в Иннополисе](https://github.com/AICommunityInno/Seminars)\n",
    "* [Документация по Python 3](http://docs.python.org/3)\n",
    "* [26 приемов Python](https://tproger.ru/translations/an-a-z-of-python-tricks/)\n",
    "* [Intro to Python. Yandex Data School](https://github.com/yandexdataschool/MLatImperial2017/blob/master/0-intro-to-python.ipynb)\n",
    "* [OpenDataScience course Python](https://github.com/Yorko/python_intro/)"
   ]
  }
 ],
 "metadata": {
  "kernelspec": {
   "display_name": "Python 3",
   "language": "python",
   "name": "python3"
  },
  "language_info": {
   "codemirror_mode": {
    "name": "ipython",
    "version": 3
   },
   "file_extension": ".py",
   "mimetype": "text/x-python",
   "name": "python",
   "nbconvert_exporter": "python",
   "pygments_lexer": "ipython3",
   "version": "3.7.3"
  }
 },
 "nbformat": 4,
 "nbformat_minor": 4
}
